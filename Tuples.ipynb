{
 "cells": [
  {
   "cell_type": "code",
   "execution_count": 1,
   "id": "73825621",
   "metadata": {},
   "outputs": [
    {
     "name": "stdout",
     "output_type": "stream",
     "text": [
      "required2\n",
      "eles141\n",
      "eles212\n",
      "('141', '212')\n"
     ]
    }
   ],
   "source": [
    "def createTuple():\n",
    "    tuple1=list()\n",
    "    numRe=int(input(\"required\"))\n",
    "    for i in range(numRe):\n",
    "        ele=input(\"eles\")\n",
    "        tuple1.append(ele)\n",
    "    return tuple(tuple1)\n",
    "tuple1=createTuple() \n",
    "print(tuple1)"
   ]
  },
  {
   "cell_type": "code",
   "execution_count": 2,
   "id": "4f324d02",
   "metadata": {},
   "outputs": [
    {
     "data": {
      "text/plain": [
       "('141', '212')"
      ]
     },
     "execution_count": 2,
     "metadata": {},
     "output_type": "execute_result"
    }
   ],
   "source": [
    "tuple1\n"
   ]
  },
  {
   "cell_type": "code",
   "execution_count": 3,
   "id": "da67c8d3",
   "metadata": {},
   "outputs": [
    {
     "name": "stdout",
     "output_type": "stream",
     "text": [
      "Enter the index\t0\n",
      "Enter the element to update\tkolk\n",
      "('kolk', '212')\n"
     ]
    }
   ],
   "source": [
    "#update tuple\n",
    "def updateTup():\n",
    "    y=list(tuple1)\n",
    "    ind=int(input(\"Enter the index\\t\"))\n",
    "    ele=input(\"Enter the element to update\\t\")\n",
    "    y[ind]=ele\n",
    "    return tuple(y)\n",
    "print(updateTup())"
   ]
  },
  {
   "cell_type": "code",
   "execution_count": 4,
   "id": "df31d67d",
   "metadata": {},
   "outputs": [
    {
     "name": "stdout",
     "output_type": "stream",
     "text": [
      "Enter the element558\n"
     ]
    },
    {
     "data": {
      "text/plain": [
       "['141', '212', '558']"
      ]
     },
     "execution_count": 4,
     "metadata": {},
     "output_type": "execute_result"
    }
   ],
   "source": [
    "def addTup():\n",
    "    t=list(tuple1)\n",
    "    newEle=input(\"Enter the element\")\n",
    "    t.append(newEle)\n",
    "    return t\n",
    "addTup()"
   ]
  },
  {
   "cell_type": "code",
   "execution_count": 104,
   "id": "1942e521",
   "metadata": {},
   "outputs": [
    {
     "data": {
      "text/plain": [
       "('kl', 'op', 'uuu')"
      ]
     },
     "execution_count": 104,
     "metadata": {},
     "output_type": "execute_result"
    }
   ],
   "source": [
    "tuple1"
   ]
  },
  {
   "cell_type": "code",
   "execution_count": 74,
   "id": "5b947abf",
   "metadata": {},
   "outputs": [
    {
     "name": "stdout",
     "output_type": "stream",
     "text": [
      "('kl', 'op', 'uuu')\n",
      "Enter the Element to check\n",
      "kl\n"
     ]
    },
    {
     "data": {
      "text/plain": [
       "0"
      ]
     },
     "execution_count": 74,
     "metadata": {},
     "output_type": "execute_result"
    }
   ],
   "source": [
    "#count\n",
    "def countTup(coun):\n",
    "    ele=input(\"Enter the Element to check\\n\")\n",
    "    x=tup1.count(ele)\n",
    "    return x\n",
    "print(tuple1)\n",
    "countTup(tuple1)"
   ]
  },
  {
   "cell_type": "code",
   "execution_count": 29,
   "id": "bc885d11",
   "metadata": {},
   "outputs": [
    {
     "name": "stdout",
     "output_type": "stream",
     "text": [
      "eraser\n"
     ]
    },
    {
     "data": {
      "text/plain": [
       "3"
      ]
     },
     "execution_count": 29,
     "metadata": {},
     "output_type": "execute_result"
    }
   ],
   "source": [
    "#index\n",
    "def indexTup(ind):\n",
    "    x=tup1.index(ele)\n",
    "    return x\n",
    "ele=input(\"Enter the element\")\n",
    "indexTup(tup1)"
   ]
  },
  {
   "cell_type": "code",
   "execution_count": 51,
   "id": "611596ba",
   "metadata": {},
   "outputs": [
    {
     "name": "stdout",
     "output_type": "stream",
     "text": [
      "Enter the index number to retreive the element1\n"
     ]
    },
    {
     "data": {
      "text/plain": [
       "'pen'"
      ]
     },
     "execution_count": 51,
     "metadata": {},
     "output_type": "execute_result"
    }
   ],
   "source": [
    "#Retreive the ele\n",
    "def retTup(ret):\n",
    "    ind=int(input(\"Enter the index number to retreive the element\"))\n",
    "    x=tup1[ind]\n",
    "    return x\n",
    "retTup(tup1)"
   ]
  },
  {
   "cell_type": "code",
   "execution_count": 54,
   "id": "877a7992",
   "metadata": {},
   "outputs": [
    {
     "data": {
      "text/plain": [
       "4"
      ]
     },
     "execution_count": 54,
     "metadata": {},
     "output_type": "execute_result"
    }
   ],
   "source": [
    "#Length of the tuple\n",
    "def lenTup(len1):\n",
    "    x=len(tup1)\n",
    "    return x\n",
    "lenTup(tup1)"
   ]
  },
  {
   "cell_type": "code",
   "execution_count": 59,
   "id": "ea70640c",
   "metadata": {},
   "outputs": [
    {
     "data": {
      "text/plain": [
       "('pen', 'pencil', 'eraser')"
      ]
     },
     "execution_count": 59,
     "metadata": {},
     "output_type": "execute_result"
    }
   ],
   "source": [
    "#print reverse tuple\n",
    "def revTup(rev):\n",
    "    x=tup1[-3:]\n",
    "    return x\n",
    "revTup(tup1)"
   ]
  },
  {
   "cell_type": "code",
   "execution_count": 67,
   "id": "553e5f60",
   "metadata": {},
   "outputs": [
    {
     "data": {
      "text/plain": [
       "('book', 'pen', 'pencil', 'eraser')"
      ]
     },
     "execution_count": 67,
     "metadata": {},
     "output_type": "execute_result"
    }
   ],
   "source": [
    "tup1"
   ]
  },
  {
   "cell_type": "code",
   "execution_count": 73,
   "id": "c406a607",
   "metadata": {},
   "outputs": [
    {
     "name": "stdout",
     "output_type": "stream",
     "text": [
      "Enter the number of elements required\t2\n",
      "Enter the elements\tklk\n"
     ]
    },
    {
     "ename": "AttributeError",
     "evalue": "'tuple' object has no attribute 'append'",
     "output_type": "error",
     "traceback": [
      "\u001b[1;31m---------------------------------------------------------------------------\u001b[0m",
      "\u001b[1;31mAttributeError\u001b[0m                            Traceback (most recent call last)",
      "\u001b[1;32m~\\AppData\\Local\\Temp/ipykernel_14180/2998436131.py\u001b[0m in \u001b[0;36m<module>\u001b[1;34m\u001b[0m\n\u001b[0;32m      6\u001b[0m         \u001b[0mtuple1\u001b[0m\u001b[1;33m.\u001b[0m\u001b[0mappend\u001b[0m\u001b[1;33m(\u001b[0m\u001b[0mele\u001b[0m\u001b[1;33m)\u001b[0m\u001b[1;33m\u001b[0m\u001b[1;33m\u001b[0m\u001b[0m\n\u001b[0;32m      7\u001b[0m     \u001b[1;32mreturn\u001b[0m \u001b[0mtuple\u001b[0m\u001b[1;33m(\u001b[0m\u001b[0mtuple1\u001b[0m\u001b[1;33m)\u001b[0m\u001b[1;33m\u001b[0m\u001b[1;33m\u001b[0m\u001b[0m\n\u001b[1;32m----> 8\u001b[1;33m \u001b[0mcreateTuple\u001b[0m\u001b[1;33m(\u001b[0m\u001b[1;33m)\u001b[0m\u001b[1;33m\u001b[0m\u001b[1;33m\u001b[0m\u001b[0m\n\u001b[0m\u001b[0;32m      9\u001b[0m \u001b[1;32mdef\u001b[0m \u001b[0mupdateTup\u001b[0m\u001b[1;33m(\u001b[0m\u001b[0mup\u001b[0m\u001b[1;33m)\u001b[0m\u001b[1;33m:\u001b[0m\u001b[1;33m\u001b[0m\u001b[1;33m\u001b[0m\u001b[0m\n\u001b[0;32m     10\u001b[0m     \u001b[0my\u001b[0m\u001b[1;33m=\u001b[0m\u001b[0mlist\u001b[0m\u001b[1;33m(\u001b[0m\u001b[0mtuple1\u001b[0m\u001b[1;33m)\u001b[0m\u001b[1;33m\u001b[0m\u001b[1;33m\u001b[0m\u001b[0m\n",
      "\u001b[1;32m~\\AppData\\Local\\Temp/ipykernel_14180/2998436131.py\u001b[0m in \u001b[0;36mcreateTuple\u001b[1;34m()\u001b[0m\n\u001b[0;32m      4\u001b[0m     \u001b[1;32mfor\u001b[0m \u001b[0mi\u001b[0m \u001b[1;32min\u001b[0m \u001b[0mrange\u001b[0m\u001b[1;33m(\u001b[0m\u001b[1;36m0\u001b[0m\u001b[1;33m,\u001b[0m\u001b[0mnumRe\u001b[0m\u001b[1;33m)\u001b[0m\u001b[1;33m:\u001b[0m\u001b[1;33m\u001b[0m\u001b[1;33m\u001b[0m\u001b[0m\n\u001b[0;32m      5\u001b[0m         \u001b[0mele\u001b[0m\u001b[1;33m=\u001b[0m\u001b[0minput\u001b[0m\u001b[1;33m(\u001b[0m\u001b[1;34m\"Enter the elements\\t\"\u001b[0m\u001b[1;33m)\u001b[0m\u001b[1;33m\u001b[0m\u001b[1;33m\u001b[0m\u001b[0m\n\u001b[1;32m----> 6\u001b[1;33m         \u001b[0mtuple1\u001b[0m\u001b[1;33m.\u001b[0m\u001b[0mappend\u001b[0m\u001b[1;33m(\u001b[0m\u001b[0mele\u001b[0m\u001b[1;33m)\u001b[0m\u001b[1;33m\u001b[0m\u001b[1;33m\u001b[0m\u001b[0m\n\u001b[0m\u001b[0;32m      7\u001b[0m     \u001b[1;32mreturn\u001b[0m \u001b[0mtuple\u001b[0m\u001b[1;33m(\u001b[0m\u001b[0mtuple1\u001b[0m\u001b[1;33m)\u001b[0m\u001b[1;33m\u001b[0m\u001b[1;33m\u001b[0m\u001b[0m\n\u001b[0;32m      8\u001b[0m \u001b[0mcreateTuple\u001b[0m\u001b[1;33m(\u001b[0m\u001b[1;33m)\u001b[0m\u001b[1;33m\u001b[0m\u001b[1;33m\u001b[0m\u001b[0m\n",
      "\u001b[1;31mAttributeError\u001b[0m: 'tuple' object has no attribute 'append'"
     ]
    }
   ],
   "source": [
    "def createTuple():\n",
    "    tupple1=list()\n",
    "    numRe=int(input(\"Enter the number of elements required\\t\"))\n",
    "    for i in range(0,numRe):\n",
    "        ele=input(\"Enter the elements\\t\")\n",
    "        tuple1.append(ele)\n",
    "    return tuple(tuple1)\n",
    "createTuple()       \n",
    "def updateTup(up):\n",
    "    y=list(tuple1)\n",
    "    ind=int(input(\"Enter the index\\t\"))\n",
    "    ele=input(\"Enter the element to update\\t\")\n",
    "    y[ind]=ele\n",
    "    return y\n",
    "def countTup(coun):\n",
    "    ele=input(\"Enter the Element to check\\n\")\n",
    "    x=tuple1.count(ele)\n",
    "    return x\n",
    "def indexTup(ind):\n",
    "    ele=input(\"Enter the element\")\n",
    "    x=tuple1.index(ele)\n",
    "    return x\n",
    "def lenTup(len1):\n",
    "    x=len(tuple1)\n",
    "    return x\n",
    "def addTup(ele):\n",
    "    k=list(tuple1)\n",
    "    newEle=input(\"Enter the element\")\n",
    "    k.append(newEle)\n",
    "    return tuple(k)\n",
    "\n",
    "\n",
    "\n",
    "\n",
    "def tupOp(options):   \n",
    "    if choice==1:\n",
    "        select=\"Add element\"\n",
    "        print(f\"You have selected {select} operation\")     \n",
    "    elif choice==2:\n",
    "        select=\"Update\"\n",
    "        print(f\"You have selected {select} operation\")\n",
    "    elif choice==3:\n",
    "        select=\"Frequency of element\"\n",
    "        print(f\"You have selected {select} operation\")\n",
    "    elif choice==4:\n",
    "        select=\"Identify the index of ele\"\n",
    "        print(f\"You have selected {select} operation\")\n",
    "    elif choice==5:\n",
    "        select=\"Length\"\n",
    "        print(f\"You have selected {select} operation\")\n",
    "    elif choice==6:\n",
    "        select=\"Exiting---->>>>\"\n",
    "        print(f\"You have selected {select} operation\")\n",
    "    else:\n",
    "        print(\"Invalid input\")\n",
    "    return choice\n",
    "print(\"Select your Option to perform tuple operation\\n 1.Add element\\n 2.Update\\n 3.Frequency of element\\n 4.Identify the index of ele\\n 5.Length\\n 6.Exit\\n \")\n",
    "while True:    \n",
    "    choice=int(input(\"choice\"))\n",
    "    tupOp(choice)\n",
    "    if choice==1:\n",
    "        addTup(tuple1)\n",
    "    elif choice==2:\n",
    "        print(tuple(updateTup(tup1)))\n",
    "    elif choice==3:\n",
    "        print(tuple1)\n",
    "        countTup(tuple1)\n",
    "    elif choice==4:\n",
    "        indexTup(tuple1)\n",
    "    elif choice==5:\n",
    "        lenTup(tuple1)\n",
    "    elif choice==6:\n",
    "        break\n",
    "    else:\n",
    "        print(\"!Wrong input!\")\n"
   ]
  },
  {
   "cell_type": "code",
   "execution_count": null,
   "id": "e4a9722a",
   "metadata": {},
   "outputs": [],
   "source": []
  },
  {
   "cell_type": "code",
   "execution_count": null,
   "id": "d40c7ba8",
   "metadata": {},
   "outputs": [],
   "source": []
  }
 ],
 "metadata": {
  "kernelspec": {
   "display_name": "Python 3 (ipykernel)",
   "language": "python",
   "name": "python3"
  },
  "language_info": {
   "codemirror_mode": {
    "name": "ipython",
    "version": 3
   },
   "file_extension": ".py",
   "mimetype": "text/x-python",
   "name": "python",
   "nbconvert_exporter": "python",
   "pygments_lexer": "ipython3",
   "version": "3.9.7"
  }
 },
 "nbformat": 4,
 "nbformat_minor": 5
}

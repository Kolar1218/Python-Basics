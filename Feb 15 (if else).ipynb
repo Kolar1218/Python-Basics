{
 "cells": [
  {
   "cell_type": "code",
   "execution_count": null,
   "id": "04db0539",
   "metadata": {},
   "outputs": [],
   "source": [
    "#Task1\n",
    "\"\"\"\"Given a year, determine whether it is a leap year. If it is a leap year, return the Boolean True, otherwise return False.\n",
    "\n",
    "Note that the code stub provided reads from STDIN and passes arguments to the is_leap function. \n",
    "It is only necessary to complete the is_leap function.\"\"\"\n",
    "\n",
    "#hackerrank Write a function\n",
    "def is_leap(year):\n",
    "    leap = False;\n",
    "    if year%400==0:\n",
    "        leap=True;\n",
    "    elif year%4==0 and year%100!=0:\n",
    "        leap=True;\n",
    "    return leap"
   ]
  },
  {
   "cell_type": "code",
   "execution_count": 30,
   "id": "75aabda0",
   "metadata": {},
   "outputs": [
    {
     "name": "stdout",
     "output_type": "stream",
     "text": [
      "5\n",
      "Weird\n"
     ]
    }
   ],
   "source": [
    "#Task2\n",
    "\"\"\"\"Given an integer, , perform the following conditional actions:\n",
    "\n",
    "If  is odd, print Weird\n",
    "If  is even and in the inclusive range of  to , print Not Weird\n",
    "If  is even and in the inclusive range of  to , print Weird\n",
    "If  is even and greater than , print Not Weird\"\"\"\n",
    "\n",
    "#hackerrank Python If-Else\n",
    "\n",
    "import math\n",
    "import os\n",
    "import random\n",
    "import re\n",
    "import sys\n",
    "\n",
    "n = int(input().strip())\n",
    "if n%2:\n",
    "    print(\"Weird\")\n",
    "elif n>2 and n<=5:\n",
    "    print(\"Not Weird\")\n",
    "elif n>20:\n",
    "    print(\"Not Weird\")\n",
    "elif n>6 and n<=20:\n",
    "    print(\"Weird\")\n",
    "else:\n",
    "    print(\"Not Weird\")\n"
   ]
  },
  {
   "cell_type": "code",
   "execution_count": 45,
   "id": "a1fa5588",
   "metadata": {},
   "outputs": [
    {
     "name": "stdout",
     "output_type": "stream",
     "text": [
      "1955\n",
      "not a leap year\n"
     ]
    }
   ],
   "source": [
    "year=int(input())\n",
    "if(year%400==0)and (year%4==0):\n",
    "    print(\"is a Leap year\")\n",
    "else:\n",
    "    print(\"not a leap year\")\n",
    "\n",
    "    "
   ]
  },
  {
   "cell_type": "code",
   "execution_count": 28,
   "id": "7091439b",
   "metadata": {},
   "outputs": [
    {
     "name": "stdout",
     "output_type": "stream",
     "text": [
      "20\n",
      "Buzz\n"
     ]
    }
   ],
   "source": [
    "#Task3\n",
    "\n",
    "#Fizz buzz\n",
    "#Get one number from user\n",
    "#Multiple of 3 ==> Fizz\n",
    "#Multiple of 5 ===> buzz\n",
    "#Multiple of 3 and 5 ===> Fizzbuzz\n",
    "#None ==> Invalid number\n",
    "\n",
    "num=int(input())\n",
    "if (num%3==0 and num%5==0):\n",
    "    print(\"FizzBuzz\")\n",
    "elif(num%5==0):\n",
    "    print(\"Buzz\")\n",
    "elif (num%3==0):\n",
    "    print(\"Fizz\")\n",
    "else:\n",
    "    print(\"Invalid Number\")"
   ]
  },
  {
   "cell_type": "code",
   "execution_count": 148,
   "id": "b6b88ab1",
   "metadata": {},
   "outputs": [
    {
     "name": "stdout",
     "output_type": "stream",
     "text": [
      "Enter the Marks obtained in the subject:\t55\n",
      "55 is Valid Marks\n",
      "55 is Pass marks\n",
      "Gdare E\n"
     ]
    }
   ],
   "source": [
    "#Task4:\n",
    "\n",
    "#Get one mark from student\n",
    "#mark 0 to 100 Valid otherwise invalid mark\n",
    "\n",
    "#50 + PASS otherwise FAIL\n",
    "#90 to 100 ===> A \n",
    "#80 to 89 ===> B\n",
    "#70 to 79 ===> C\n",
    "#60 to 69 ===> D\n",
    "#50 to 59 ===> E\n",
    "\n",
    "#0 to 49 ===> FAIL\n",
    "#93 ===> A\n",
    "#99 ===> A\n",
    "#88 ====> B\n",
    "\n",
    "#78\n",
    "\n",
    "#VALID MARK (between 0 to 100)\n",
    "#PASS MARK (50 +)\n",
    "#C\n",
    "\n",
    "#65\n",
    "\n",
    "marks=int(input(\"Enter the Marks obtained in the subject:\\t\"))\n",
    "if marks >0 and marks<=100:\n",
    "    print(\"{} is Valid Marks\".format(marks))\n",
    "    if marks > 0 and marks<=49:\n",
    "        print(\"Fail marks\")\n",
    "    elif marks >50:\n",
    "        print(\"{} is Pass marks\".format(marks))\n",
    "        if marks>90 and marks<=100:\n",
    "            print(\"Gdare A\")       \n",
    "    if marks>80 and marks<89:\n",
    "            print(\"Gdare B\")\n",
    "    if marks>70 and marks<79:\n",
    "            print(\"Gdare C\")\n",
    "    if marks>60 and marks<69:\n",
    "            print(\"Gdare D\")\n",
    "    if marks>50 and marks<59:\n",
    "            print(\"Gdare E\")       \n",
    "else:\n",
    "    print(\"{} is invalid Marks\".formar(marks))\n",
    "    "
   ]
  },
  {
   "cell_type": "raw",
   "id": "78758222",
   "metadata": {},
   "source": [
    "Task 5:\n",
    "\n",
    "#collect three marks from user\n",
    "#calculate mark1 + mark2 + mark3 / 100\n",
    "\n",
    "if calculate > 90 ===> Grade A\n",
    "if calculate > 75 ==> Grade B\n",
    "calculate > 50  ==> grade C\n",
    "Other wise ===> Grade D"
   ]
  },
  {
   "cell_type": "code",
   "execution_count": 151,
   "id": "147a631d",
   "metadata": {},
   "outputs": [
    {
     "name": "stdout",
     "output_type": "stream",
     "text": [
      "Enter Maths marks:\t1\n",
      "Enter Biology marks:\t2\n",
      "Enter Science marks:\t3\n",
      "Percentage of Marks is:\t 2.0\n",
      "Grade D\n"
     ]
    }
   ],
   "source": [
    "sub1=int(input(\"Enter Maths marks:\\t\"))\n",
    "sub2=int(input(\"Enter Biology marks:\\t\"))\n",
    "sub3=int(input(\"Enter Science marks:\\t\"))\n",
    "total=sub1+sub2+sub3\n",
    "perce=total/3\n",
    "print(\"Percentage of Marks is:\\t\",perce)\n",
    "if perce >= 90:\n",
    "    print(\"Grade A\")\n",
    "elif perce >= 75 and perce < 90:\n",
    "    print(\"Grade B\")\n",
    "elif perce >= 50 and perce < 75 :\n",
    "    print(\"Grade C\")\n",
    "else:\n",
    "    print(\"Grade D\")\n"
   ]
  }
 ],
 "metadata": {
  "kernelspec": {
   "display_name": "Python 3 (ipykernel)",
   "language": "python",
   "name": "python3"
  },
  "language_info": {
   "codemirror_mode": {
    "name": "ipython",
    "version": 3
   },
   "file_extension": ".py",
   "mimetype": "text/x-python",
   "name": "python",
   "nbconvert_exporter": "python",
   "pygments_lexer": "ipython3",
   "version": "3.9.7"
  }
 },
 "nbformat": 4,
 "nbformat_minor": 5
}

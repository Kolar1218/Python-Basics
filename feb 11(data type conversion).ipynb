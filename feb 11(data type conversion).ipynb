{
 "cells": [
  {
   "cell_type": "code",
   "execution_count": null,
   "id": "1a5409e4",
   "metadata": {},
   "outputs": [],
   "source": [
    "\"\"\"\"Task1:\n",
    "\n",
    "Li1 = [2,3,4,5,[45,56,67,78,[111,222,333,[5555,3333,[10000,50000,\"python\",\"computer\"],1111,7777,8888],444,555,666,777],89,23,34]]\n",
    "\n",
    "\n",
    "5\n",
    "56\n",
    "222\n",
    "50000\n",
    "put\n",
    "5555\n",
    "7777\n",
    "666\n",
    "89\n",
    "on\n",
    "333\n",
    "3333\"\"\"\""
   ]
  },
  {
   "cell_type": "code",
   "execution_count": 48,
   "id": "162e7b40",
   "metadata": {},
   "outputs": [
    {
     "name": "stdout",
     "output_type": "stream",
     "text": [
      "5\n",
      "56\n",
      "222\n",
      "50000\n",
      "5555\n",
      "7777\n"
     ]
    }
   ],
   "source": [
    "list1=[2,3,4,5,[45,56,67,78,[111,222,333,[5555,3333,[10000,50000,\"python\",\"computer\"],1111,7777,8888],444,555,666,777],89,23,34]]\n",
    "print(list1[3])\n",
    "print(list1[4][1])\n",
    "print(list1[4][4][1])\n",
    "print(list1[4][4][3][2][1])\n",
    "list1[4][4][2]=5555\n",
    "print(list1[4][4][2])\n",
    "print(list1[4][4][3][4])\n",
    "list1[4][4][3][1]=7777\n"
   ]
  },
  {
   "cell_type": "raw",
   "id": "3705a132",
   "metadata": {},
   "source": [
    "Task2\n",
    "\n",
    "\n",
    "a = [1,2,3,4,[100,101,102,\"Computer_science\"],200,203]\n",
    "\n",
    "Extract\n",
    "#science\n",
    "#computer"
   ]
  },
  {
   "cell_type": "code",
   "execution_count": 51,
   "id": "18cc35ff",
   "metadata": {},
   "outputs": [
    {
     "name": "stdout",
     "output_type": "stream",
     "text": [
      "Computer\n",
      "science\n"
     ]
    }
   ],
   "source": [
    "a = [1,2,3,4,[100,101,102,\"Computer_science\"],200,203]\n",
    "print(a[4][3][0:8])\n",
    "print(a[4][3][9:])"
   ]
  },
  {
   "cell_type": "raw",
   "id": "8ad9f354",
   "metadata": {},
   "source": [
    "Task3\n",
    "a = [1,2,3,4,[101,102,103,[201,202,[999]], 666, 777]]\n",
    "\n",
    "Extract\n",
    "#666\n",
    "#201\n",
    "#102\n",
    "#999\n",
    "#777\n"
   ]
  },
  {
   "cell_type": "code",
   "execution_count": 73,
   "id": "0a70cf1b",
   "metadata": {},
   "outputs": [
    {
     "name": "stdout",
     "output_type": "stream",
     "text": [
      "666\n",
      "201\n",
      "102\n",
      "999\n",
      "777\n"
     ]
    }
   ],
   "source": [
    "a = [1,2,3,4,[101,102,103,[201,202,[999]], 666, 777]]\n",
    "print(a[4][4])\n",
    "print(a[4][3][0])\n",
    "print(a[4][1])\n",
    "print(a[4][3][2][0])\n",
    "print(a[4][5])\n",
    "\n"
   ]
  },
  {
   "cell_type": "raw",
   "id": "1093030a",
   "metadata": {},
   "source": [
    "Task4:\n",
    "\n",
    "Li1 = [2,3,\"python\",\"hello\",4,5,0]  \n",
    "\n",
    "Extract\n",
    "#ll\n",
    "#thon"
   ]
  },
  {
   "cell_type": "code",
   "execution_count": 77,
   "id": "7fd631ba",
   "metadata": {},
   "outputs": [
    {
     "name": "stdout",
     "output_type": "stream",
     "text": [
      "thon\n",
      "ll\n"
     ]
    }
   ],
   "source": [
    "list1=[2,3,\"python\",\"hello\",4,5,0]\n",
    "print(list1[2][2:])\n",
    "print(list1[3][2:4])"
   ]
  },
  {
   "cell_type": "code",
   "execution_count": 81,
   "id": "d34aeba9",
   "metadata": {},
   "outputs": [
    {
     "name": "stdout",
     "output_type": "stream",
     "text": [
      "11\n",
      "6666\n",
      "6666\n",
      "7777\n",
      "77778\n",
      "222\n",
      "7777\n",
      "[33, 44]\n"
     ]
    }
   ],
   "source": [
    "#Task5\n",
    "Li1 = [1,2,3,4,5,[11,22,33,44,55,[111,222,333,444],6666,7777],77778]\n",
    "\n",
    "#Output Prediction \n",
    "\n",
    "print(Li1[5][0])\n",
    "print(Li1[5][6])\n",
    "print(Li1[5][-2])\n",
    "print(Li1[5][7])\n",
    "print(Li1[6])\n",
    "print(Li1[5][5][1])\n",
    "\n",
    "print(Li1[-2][-1])\n",
    "\n",
    "\n",
    "print(Li1[-2][2:4])"
   ]
  },
  {
   "cell_type": "raw",
   "id": "67f35914",
   "metadata": {},
   "source": [
    "Task6:\n",
    "\n",
    "a = {1: [1,2,3,\"python\"], 2:{10:\"hello\",20:\"welcome\",40: \"science\"}, 99: {3,4,5,6}, 40:{1:\"zoology\", 2:\"Botany\"}}\n",
    "\n",
    "\n",
    "#py\n",
    "#ello\n",
    "#en\n",
    "#zoo\n",
    "#Bot"
   ]
  },
  {
   "cell_type": "code",
   "execution_count": 92,
   "id": "e3092499",
   "metadata": {},
   "outputs": [
    {
     "name": "stdout",
     "output_type": "stream",
     "text": [
      "py\n",
      "ello\n",
      "en\n",
      "zoo\n",
      "Bot\n"
     ]
    },
    {
     "data": {
      "text/plain": [
       "{1: [1, 2, 3, 'python'],\n",
       " 2: {10: 'hello', 20: 'welcome', 40: 'science'},\n",
       " 99: {3, 4, 5, 6},\n",
       " 40: {1: 'zoology', 2: 'Botany'}}"
      ]
     },
     "execution_count": 92,
     "metadata": {},
     "output_type": "execute_result"
    }
   ],
   "source": [
    "a={1:[1,2,3,\"python\"], 2:{10:\"hello\",20:\"welcome\",40: \"science\"}, 99: {3,4,5,6}, 40:{1:\"zoology\", 2:\"Botany\"}}\n",
    "print(a[1][3][0:2])\n",
    "print(a[2][10][1:])\n",
    "print(a[2][40][3:5])\n",
    "print(a[40][1][0:3])\n",
    "print(a[40][2][0:3])\n",
    "print(a)"
   ]
  },
  {
   "cell_type": "raw",
   "id": "5c92e7a9",
   "metadata": {},
   "source": [
    "Task7:\n",
    "\n",
    "Covert below two lists in to a dictionary\n",
    "\n",
    "[1,2,3,4,5]\n",
    "[\"python\",\"cpp\",\"c\",\"java\",\"php\"]\n"
   ]
  },
  {
   "cell_type": "code",
   "execution_count": 94,
   "id": "51c1eb54",
   "metadata": {},
   "outputs": [
    {
     "name": "stdout",
     "output_type": "stream",
     "text": [
      "{1: 'python', 2: 'cpp', 3: 'c', 4: 'java', 5: 'php'}\n"
     ]
    }
   ],
   "source": [
    "keys=[1,2,3,4,5]\n",
    "values=[\"python\",\"cpp\",\"c\",\"java\",\"php\"]\n",
    "dict1=dict(zip(keys,values))\n",
    "print(dict1)"
   ]
  },
  {
   "cell_type": "raw",
   "id": "fd11c013",
   "metadata": {},
   "source": [
    "Task8:\n",
    "\n",
    "Convert below set in to a list\n",
    "\n",
    "{5,4,3,6,2,7,1}"
   ]
  },
  {
   "cell_type": "code",
   "execution_count": 97,
   "id": "02d67098",
   "metadata": {},
   "outputs": [
    {
     "name": "stdout",
     "output_type": "stream",
     "text": [
      "[1, 2, 3, 4, 5, 6, 7]\n"
     ]
    }
   ],
   "source": [
    "set1={5,4,3,6,2,7,1}\n",
    "set1=list(set1)\n",
    "print(set1)"
   ]
  },
  {
   "cell_type": "raw",
   "id": "5b875c56",
   "metadata": {},
   "source": [
    "Task9:\n",
    "\n",
    "Remove duplicates from below list\n",
    "\n",
    "[5,4,3,6,2,7,1,2,3,4,1,2,3,4,5,6,5]"
   ]
  },
  {
   "cell_type": "code",
   "execution_count": 100,
   "id": "b7c053be",
   "metadata": {},
   "outputs": [
    {
     "name": "stdout",
     "output_type": "stream",
     "text": [
      "[1, 2, 3, 4, 5, 6, 7]\n"
     ]
    }
   ],
   "source": [
    "list1=[5,4,3,6,2,7,1,2,3,4,1,2,3,4,5,6,5]\n",
    "list1=list(set(list1))\n",
    "print(list1)"
   ]
  },
  {
   "cell_type": "raw",
   "id": "2ad61c02",
   "metadata": {},
   "source": [
    "Task10:\n",
    "\n",
    "Convert below one to tuple\n",
    "\n",
    "[5,4,3,6,2,7,1,2,3,4,1,2,3,4,5,6,5]"
   ]
  },
  {
   "cell_type": "code",
   "execution_count": 107,
   "id": "2ed126a9",
   "metadata": {},
   "outputs": [
    {
     "name": "stdout",
     "output_type": "stream",
     "text": [
      "(5, 4, 3, 6, 2, 7, 1, 2, 3, 4, 1, 2, 3, 4, 5, 6, 5) <class 'tuple'>\n"
     ]
    }
   ],
   "source": [
    "list1=[5,4,3,6,2,7,1,2,3,4,1,2,3,4,5,6,5]\n",
    "list1=tuple(list1)\n",
    "print(list1,type(list1))"
   ]
  },
  {
   "cell_type": "code",
   "execution_count": null,
   "id": "b24a3ba1",
   "metadata": {},
   "outputs": [],
   "source": []
  }
 ],
 "metadata": {
  "kernelspec": {
   "display_name": "Python 3 (ipykernel)",
   "language": "python",
   "name": "python3"
  },
  "language_info": {
   "codemirror_mode": {
    "name": "ipython",
    "version": 3
   },
   "file_extension": ".py",
   "mimetype": "text/x-python",
   "name": "python",
   "nbconvert_exporter": "python",
   "pygments_lexer": "ipython3",
   "version": "3.9.7"
  }
 },
 "nbformat": 4,
 "nbformat_minor": 5
}

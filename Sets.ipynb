{
 "cells": [
  {
   "cell_type": "code",
   "execution_count": 48,
   "id": "654dfa0a",
   "metadata": {},
   "outputs": [
    {
     "name": "stdout",
     "output_type": "stream",
     "text": [
      "Enter the number of elements required\t2\n",
      "Enter the elements\teww\n",
      "Enter the elements\tedr\n",
      "{'eww', 'edr'}\n"
     ]
    }
   ],
   "source": [
    "#Create a set\n",
    "def createSet():\n",
    "    set1=set( )\n",
    "    numEle=int(input(\"Enter the number of elements required\\t\"))\n",
    "    for i in range(0,numEle):\n",
    "        elem=input(\"Enter the elements\\t\")\n",
    "        set1.add(elem)\n",
    "    return set1\n",
    "set1=createSet()\n",
    "print(set1)"
   ]
  },
  {
   "cell_type": "code",
   "execution_count": 49,
   "id": "21484206",
   "metadata": {},
   "outputs": [
    {
     "name": "stdout",
     "output_type": "stream",
     "text": [
      "Enter the element to updatew\n",
      "{'w', 'eww', 'edr'} "
     ]
    }
   ],
   "source": [
    "#update set with new set\n",
    "def updateSet(upd):\n",
    "    set1.update(set2)\n",
    "    return set1\n",
    "s=input(\"Enter the element to update\")\n",
    "set2=str(s)\n",
    "print(updateSet(set1),end=\" \")"
   ]
  },
  {
   "cell_type": "code",
   "execution_count": 51,
   "id": "b8c3dfa2",
   "metadata": {},
   "outputs": [
    {
     "name": "stdout",
     "output_type": "stream",
     "text": [
      "Enter element to add\n",
      "147\n",
      "{'w', '147', 'eww', 'edr'} "
     ]
    }
   ],
   "source": [
    "#add new element to set\n",
    "def addSet(addEle):\n",
    "    set1.add(ele)\n",
    "    return set1\n",
    "ele=input(\"Enter element to add\\n\")\n",
    "print(addSet(set1),end=\" \")"
   ]
  },
  {
   "cell_type": "code",
   "execution_count": 52,
   "id": "b984afb9",
   "metadata": {},
   "outputs": [
    {
     "name": "stdout",
     "output_type": "stream",
     "text": [
      "w\n"
     ]
    },
    {
     "data": {
      "text/plain": [
       "True"
      ]
     },
     "execution_count": 52,
     "metadata": {},
     "output_type": "execute_result"
    }
   ],
   "source": [
    "#Check se1 is subset of set1\n",
    "def subSet(sub):\n",
    "    set2\n",
    "    s=set2.issubset(set1)\n",
    "    return s\n",
    "set2=set(input(\"Enter the element to chech the Subset\"))\n",
    "subSet(set1)\n"
   ]
  },
  {
   "cell_type": "code",
   "execution_count": 20,
   "id": "d9f10070",
   "metadata": {},
   "outputs": [
    {
     "name": "stdout",
     "output_type": "stream",
     "text": [
      "Enter element to remove from set\n",
      "s\n",
      "{True, 'Gowda', 'Red', '2', 'sheep', '3', 'yello', 'green', '1', 'blue', 'cow', 'Kolar', 125, 222, 127}"
     ]
    }
   ],
   "source": [
    "#remove an element in set\n",
    "def removeSet(remove):\n",
    "    set1.remove(ele)\n",
    "    return set1\n",
    "ele=input(\"Enter element to remove from set\\n\")\n",
    "print(removeSet(ele),end=\"\")\n",
    "    "
   ]
  },
  {
   "cell_type": "code",
   "execution_count": 27,
   "id": "afe17ab6",
   "metadata": {},
   "outputs": [
    {
     "name": "stdout",
     "output_type": "stream",
     "text": [
      "Enter an element to discard from list\n",
      "2\n",
      "{True, 'Gowda', 'Red', 'sheep', '3', 'green', '1', 'blue', 'cow', 'Kolar', 125, 222, 127} "
     ]
    }
   ],
   "source": [
    "#discard element in set\n",
    "def discardSet(disc):\n",
    "    set1.discard(ele)\n",
    "    return set1\n",
    "ele=input(\"Enter an element to discard from list\\n\")\n",
    "print(discardSet(set1),end=\" \")"
   ]
  },
  {
   "cell_type": "code",
   "execution_count": 33,
   "id": "33c2230c",
   "metadata": {},
   "outputs": [
    {
     "name": "stdout",
     "output_type": "stream",
     "text": [
      "{'3', 'green', '1', 'blue', 'cow', 'Kolar', 125, 222, 127} "
     ]
    }
   ],
   "source": [
    "#pop\n",
    "def popSet(pop1):\n",
    "    set1.pop()\n",
    "    return set1\n",
    "print(popSet(set1),end=\" \")"
   ]
  },
  {
   "cell_type": "code",
   "execution_count": 59,
   "id": "a4b41d4f",
   "metadata": {},
   "outputs": [
    {
     "name": "stdout",
     "output_type": "stream",
     "text": [
      "{'eww', 'w', '147', 'kolar', 'edr'}\n"
     ]
    }
   ],
   "source": [
    "#len\n",
    "def lenghtSet(length):\n",
    "    l=len(set1)\n",
    "    return l\n",
    "lenghtSet(set1)\n",
    "print(set1)"
   ]
  },
  {
   "cell_type": "code",
   "execution_count": 67,
   "id": "49c625ab",
   "metadata": {},
   "outputs": [
    {
     "name": "stdout",
     "output_type": "stream",
     "text": [
      "Enter the number of elements required\t3\n",
      "Enter the elements\tkol\n",
      "Enter the elements\tpol\n",
      "Enter the elements\tbol\n",
      "{'eww', 'uk', 'w', 'pol', '147', 'bol', 'kol', 'pk', 'kolar', 'edr'}\n"
     ]
    }
   ],
   "source": [
    "#union\n",
    "def unionSet(uni):\n",
    "    set2=set( )\n",
    "    numEle=int(input(\"Enter the number of elements required\\t\"))\n",
    "    for i in range(0,numEle):\n",
    "        elem=input(\"Enter the elements\\t\")\n",
    "        set1.add(elem)\n",
    "    return set1\n",
    "set2=unionSet(set1)\n",
    "unionSet=set1.union(set2)\n",
    "print(unionSet)"
   ]
  },
  {
   "cell_type": "code",
   "execution_count": 64,
   "id": "37ecde0e",
   "metadata": {},
   "outputs": [
    {
     "data": {
      "text/plain": [
       "{'147', 'edr', 'eww', 'kolar', 'pk', 'uk', 'w'}"
      ]
     },
     "execution_count": 64,
     "metadata": {},
     "output_type": "execute_result"
    }
   ],
   "source": [
    "#union\n",
    "def interSet(uni):\n",
    "    inter=set1.intersection(set2)\n",
    "    return inter\n",
    "interSet(set2)\n"
   ]
  },
  {
   "cell_type": "code",
   "execution_count": 68,
   "id": "ebc14900",
   "metadata": {},
   "outputs": [
    {
     "data": {
      "text/plain": [
       "{'1', 125, 127, 222, '3', 'Kolar', 'blue', 'cow', 'gowda', 'green', 'king'}"
      ]
     },
     "execution_count": 68,
     "metadata": {},
     "output_type": "execute_result"
    }
   ],
   "source": [
    "#copy\n",
    "def copySet(cop):\n",
    "    c=set1.copy()\n",
    "    return c\n",
    "c=set1\n",
    "copySet(c)"
   ]
  },
  {
   "cell_type": "code",
   "execution_count": 5,
   "id": "6ff74b8b",
   "metadata": {},
   "outputs": [
    {
     "name": "stdout",
     "output_type": "stream",
     "text": [
      "Enter the number of elements required\t2\n",
      "Enter the elements\tdo\n",
      "Enter the elements\tgood\n",
      "{'do', 'good'}\n",
      "Select your Option to perform Set operation\n",
      " 1.View set\n",
      " 2.Update\n",
      " 3.Add element\n",
      " 4.Subset\n",
      " 5.Remove\n",
      " 6.Discard\n",
      " 7.Pop\n",
      " 8.Length\n",
      " 9.Union\n",
      " 10. Intersection\n",
      " 11.Copy\n",
      "\n",
      "choice1\n",
      "You have selected Create operation\n",
      "{'do', 'good'}\n",
      "choice3\n",
      "You have selected Add elements operation\n",
      "Enter the element to add\n",
      "cats\n",
      "{'do', 'cats', 'good'} choice15\n",
      "Invalid input\n"
     ]
    }
   ],
   "source": [
    "\n",
    "def createSet():\n",
    "    set1=set( )\n",
    "    numEle=int(input(\"Enter the number of elements required\\t\"))\n",
    "    for i in range(0,numEle):\n",
    "        elem=input(\"Enter the elements\\t\")\n",
    "        set1.add(elem)\n",
    "    return set1\n",
    "set1=createSet()\n",
    "print(set1)\n",
    "def updateSet(upd):\n",
    "    set1.update(set2)\n",
    "    return set1\n",
    "def addSet(addEle):\n",
    "    set1.add(ele)\n",
    "    return set1\n",
    "def subSet(sub):\n",
    "    s=set2.issubset(set1)\n",
    "    return s\n",
    "def removeSet(remove):\n",
    "    set1.remove(ele)\n",
    "    return set1\n",
    "def discardSet(disc):\n",
    "    set1.discard(ele)\n",
    "    return set1\n",
    "def popSet(pop1):\n",
    "    set1.pop()\n",
    "    return set1\n",
    "def lenghtSet(length):\n",
    "    l=len(set1)\n",
    "    return l\n",
    "def unionSet(uni):\n",
    "    set2=set( )\n",
    "    numEle=int(input(\"Enter the number of elements required\\t\"))\n",
    "    for i in range(0,numEle):\n",
    "        elem=input(\"Enter the elements\\t\")\n",
    "        set1.add(elem)\n",
    "    return set1\n",
    "\n",
    "\n",
    "def setOp(options):   \n",
    "    if choice==1:\n",
    "        select=\"Create\"\n",
    "        print(f\"You have selected {select} operation\")     \n",
    "    elif choice==2:\n",
    "        select=\"Update\"\n",
    "        print(f\"You have selected {select} operation\")\n",
    "    elif choice==3:\n",
    "        select=\"Add elements\"\n",
    "        print(f\"You have selected {select} operation\")\n",
    "    elif choice==4:\n",
    "        select=\"Subset\"\n",
    "        print(f\"You have selected {select} operation\")\n",
    "    elif choice==5:\n",
    "        select=\"Remove\"\n",
    "        print(f\"You have selected {select} operation\")\n",
    "    elif choice==6:\n",
    "        select=\"Discard\"\n",
    "        print(f\"You have selected {select} operation\")\n",
    "    elif choice==7:\n",
    "        select=\"Pop\"\n",
    "        print(f\"You have selected {select} operation\")\n",
    "    elif choice==8:\n",
    "        select=\"Length\"\n",
    "        print(f\"You have selected {select} operation\")\n",
    "    elif choice==9:\n",
    "        select=\"Union\"\n",
    "        print(f\"You have selected {select} operation\")\n",
    "    elif choice==10:\n",
    "        select=\"Intersection\"\n",
    "        print(f\"You have selected {select} operation\")\n",
    "    elif choice==11:\n",
    "        select=\"Copy\"\n",
    "        print(f\"You have selected {select} operation\")\n",
    "    elif choice==15:\n",
    "        select=\"Exiting---->>>>\"\n",
    "        print(f\"You have selected {select} operation\")\n",
    "    else:\n",
    "        print(\"Invalid input\")\n",
    "    return choice\n",
    "print(\"Select your Option to perform Set operation\\n 1.View set\\n 2.Update\\n 3.Add element\\n 4.Subset\\n 5.Remove\\n 6.Discard\\n 7.Pop\\n 8.Length\\n 9.Union\\n 10. Intersection\\n 11.Copy\\n 15.Exiting---->>>>\")\n",
    "while True:    \n",
    "    choice=int(input(\"choice\"))\n",
    "    setOp(choice)\n",
    "    if choice==1:\n",
    "        print(set1)\n",
    "    elif choice==2:\n",
    "        s=input(\"Enter the element to update\")\n",
    "        set2=str(s)\n",
    "        print(updateSet(set1),end=\" \")\n",
    "    elif choice==3:\n",
    "        ele=input(\"Enter the element to add\\n\")\n",
    "        print(addSet(set1),end=\" \")\n",
    "    elif choice==4:\n",
    "        set2=set(input(\"Enter the element to chech the Subset\"))\n",
    "        subSet(set1)\n",
    "    elif choice==5:\n",
    "        ele=input(\"Enter element to remove from set\\n\")\n",
    "        print(removeSet(ele),end=\"\")\n",
    "    elif choice==6:\n",
    "        ele=input(\"Enter an element to discard from list\\n\")\n",
    "        print(discardSet(set1),end=\" \")\n",
    "    elif choice==7:\n",
    "        print(popSet(set1),end=\" \")\n",
    "    elif choice==8:\n",
    "        print(lenghtSet(set1))\n",
    "    elif choice==9:\n",
    "        set2=createSet()\n",
    "        unionSet=set1.union(set2)\n",
    "        print(unionSet)\n",
    "    elif choice==15:\n",
    "        break\n",
    "        \n"
   ]
  },
  {
   "cell_type": "code",
   "execution_count": null,
   "id": "7777b9cf",
   "metadata": {},
   "outputs": [],
   "source": []
  },
  {
   "cell_type": "code",
   "execution_count": null,
   "id": "b8ddec33",
   "metadata": {},
   "outputs": [],
   "source": []
  }
 ],
 "metadata": {
  "kernelspec": {
   "display_name": "Python 3 (ipykernel)",
   "language": "python",
   "name": "python3"
  },
  "language_info": {
   "codemirror_mode": {
    "name": "ipython",
    "version": 3
   },
   "file_extension": ".py",
   "mimetype": "text/x-python",
   "name": "python",
   "nbconvert_exporter": "python",
   "pygments_lexer": "ipython3",
   "version": "3.9.7"
  }
 },
 "nbformat": 4,
 "nbformat_minor": 5
}

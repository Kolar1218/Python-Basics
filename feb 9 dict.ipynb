{
 "cells": [
  {
   "cell_type": "code",
   "execution_count": 65,
   "id": "ae723958",
   "metadata": {},
   "outputs": [
    {
     "name": "stdout",
     "output_type": "stream",
     "text": [
      "{1: ['english', 'maths', 'science'], 2: [10, 20, 30], 3: ['bio-botany', 'bio-zoology', 'Algebra']}\n",
      "Extract 'bobtn' from above dictionary\n",
      " bobtn\n",
      "Extract 'arbeg' from above dictionary\n",
      " arbeg\n",
      "print all keys in dictionary and convert it into tuple\n",
      " (1, 2, 3)\n",
      "Find the average of all numbers available under key 2\n",
      " 20.0\n"
     ]
    }
   ],
   "source": [
    "dict1={1:[\"english\",\"maths\",\"science\"], 2:[10,20,30], 3:[\"bio-botany\",\"bio-zoology\",\"Algebra\"]}\n",
    "print(dict1)\n",
    "a=dict1[3]\n",
    "b=a[0]\n",
    "print(\"Extract 'bobtn' from above dictionary\\n\",b[0::2])\n",
    "c=a[2]\n",
    "print(\"Extract 'arbeg' from above dictionary\\n\",c[-1:1:-1])\n",
    "print(\"print all keys in dictionary and convert it into tuple\\n\",tuple(dict1.keys()))\n",
    "dictsum=sum(dict1[2])\n",
    "length=len(dict1[2])\n",
    "avg=dictsum/length\n",
    "print(\"Find the average of all numbers available under key 2\\n\",avg)\n"
   ]
  }
 ],
 "metadata": {
  "kernelspec": {
   "display_name": "Python 3 (ipykernel)",
   "language": "python",
   "name": "python3"
  },
  "language_info": {
   "codemirror_mode": {
    "name": "ipython",
    "version": 3
   },
   "file_extension": ".py",
   "mimetype": "text/x-python",
   "name": "python",
   "nbconvert_exporter": "python",
   "pygments_lexer": "ipython3",
   "version": "3.9.7"
  }
 },
 "nbformat": 4,
 "nbformat_minor": 5
}

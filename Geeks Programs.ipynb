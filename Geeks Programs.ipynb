{
 "cells": [
  {
   "cell_type": "code",
   "execution_count": 10,
   "id": "facd1c60",
   "metadata": {},
   "outputs": [
    {
     "name": "stdout",
     "output_type": "stream",
     "text": [
      "5\n",
      "01234"
     ]
    }
   ],
   "source": [
    "num=int(input())\n",
    "for i in range(num):\n",
    "    if i<num:\n",
    "        print(i,end=\"\")"
   ]
  },
  {
   "cell_type": "code",
   "execution_count": 11,
   "id": "765d9661",
   "metadata": {},
   "outputs": [],
   "source": [
    "def print_full_name(first,last):\n",
    "    first=input()\n",
    "    last=input()\n",
    "    last=+\"!\"\n",
    "    print(\"Hello{} {} You just delved into python.\".format(first,last))\n",
    "    return print_full_name(first,last)"
   ]
  },
  {
   "cell_type": "code",
   "execution_count": 14,
   "id": "e21f0d65",
   "metadata": {},
   "outputs": [
    {
     "name": "stdout",
     "output_type": "stream",
     "text": [
      "gg\n",
      "kk\n",
      "Hello gg kk! You just delved into python.\n"
     ]
    }
   ],
   "source": [
    "first=input()\n",
    "last=input()\n",
    "last=last+\"!\"\n",
    "print(\"Hello {} {} You just delved into python.\".format(first,last))"
   ]
  },
  {
   "cell_type": "code",
   "execution_count": 22,
   "id": "2fe89957",
   "metadata": {},
   "outputs": [
    {
     "name": "stdout",
     "output_type": "stream",
     "text": [
      "12\n",
      "[6, 5, 10]\n",
      "[9, 5, 1]\n"
     ]
    }
   ],
   "source": [
    "n=int(input())\n",
    "list1=[]\n",
    "list1.insert(0,5)\n",
    "list1.insert(1,10)\n",
    "list1.insert(0,6)\n",
    "print(list1)\n",
    "list1.remove(6)\n",
    "list1.append(9)\n",
    "list1.append(1)\n",
    "list1.sort()\n",
    "list1.pop()\n",
    "list1.reverse()\n",
    "print(list1)\n",
    "\n"
   ]
  },
  {
   "cell_type": "code",
   "execution_count": 24,
   "id": "fa447466",
   "metadata": {},
   "outputs": [
    {
     "name": "stdout",
     "output_type": "stream",
     "text": [
      "5\n",
      "2\n",
      "Addition of A and B is: 7\n"
     ]
    }
   ],
   "source": [
    "#Python program to add two numbers\n",
    "\n",
    "a=int(input())\n",
    "b=int(input())\n",
    "c=a+b\n",
    "print(\"Addition of A and B is:\",c)"
   ]
  },
  {
   "cell_type": "code",
   "execution_count": 90,
   "id": "fb0e727a",
   "metadata": {},
   "outputs": [
    {
     "name": "stdout",
     "output_type": "stream",
     "text": [
      "5\n",
      "6\n",
      "addition of two numbers is: 11\n"
     ]
    }
   ],
   "source": [
    "# Using function\n",
    "def addition(a,b):\n",
    "    result=a+b\n",
    "    print(\"addition of two numbers is:\",result)\n",
    "num1=int(input())\n",
    "num2=int(input())\n",
    "addition(num1,num2)"
   ]
  },
  {
   "cell_type": "code",
   "execution_count": 91,
   "id": "392f9c17",
   "metadata": {},
   "outputs": [
    {
     "name": "stdout",
     "output_type": "stream",
     "text": [
      "5\n",
      "6\n",
      "addition of two numbers is: 11\n"
     ]
    }
   ],
   "source": [
    "# Using function\n",
    "def addition(a,b):\n",
    "    result=a+b\n",
    "    return result\n",
    "num1=int(input())\n",
    "num2=int(input())\n",
    "result=addition(num1,num2)\n",
    "print(\"addition of two numbers is:\",result)"
   ]
  },
  {
   "cell_type": "code",
   "execution_count": 27,
   "id": "81b8dcca",
   "metadata": {},
   "outputs": [
    {
     "name": "stdout",
     "output_type": "stream",
     "text": [
      "-1\n",
      "0\n",
      "0 is maximum\n"
     ]
    }
   ],
   "source": [
    "#Maximum of two numbers in Python\n",
    "\n",
    "a=int(input())\n",
    "b=int(input())\n",
    "if a>b:\n",
    "    print(\"{} is maximum\".format(a))\n",
    "else:\n",
    "    print(\"{} is maximum\".format(b))"
   ]
  },
  {
   "cell_type": "code",
   "execution_count": 45,
   "id": "1d80d87e",
   "metadata": {},
   "outputs": [
    {
     "name": "stdout",
     "output_type": "stream",
     "text": [
      "7\n",
      "Factorial of 7 is 5040\n"
     ]
    }
   ],
   "source": [
    "#Python Program for factorial of a number\n",
    "num=int(input())\n",
    "factorial=1\n",
    "for i in range(1,num+1):\n",
    "    factorial=factorial*i\n",
    "print(\"Factorial of {} is {}\".format(num,factorial))"
   ]
  },
  {
   "cell_type": "code",
   "execution_count": 48,
   "id": "681be169",
   "metadata": {},
   "outputs": [
    {
     "name": "stdout",
     "output_type": "stream",
     "text": [
      "Enter the Numnber to find the Factorial\t7\n",
      "Factorial of 7 is 5040 \n"
     ]
    }
   ],
   "source": [
    "#Using recursion \n",
    "def fact(n):\n",
    "    if n==1:\n",
    "        return 1\n",
    "    else:\n",
    "        return(n*fact(n-1))\n",
    "num=int(input(\"Enter the number to find the factorial\\t\"))\n",
    "result=fact(num)\n",
    "print(\"Factorial of {} is {} \".format(num,result))"
   ]
  },
  {
   "cell_type": "code",
   "execution_count": 5,
   "id": "e5f199da",
   "metadata": {},
   "outputs": [
    {
     "name": "stdout",
     "output_type": "stream",
     "text": [
      "Enter the Principle amount\t100000\n",
      "Enter the time period\t30\n",
      "Enter the interest rate\t0.066\n",
      "Simple interest is  1980.0\n"
     ]
    }
   ],
   "source": [
    "#Python Program for simple interest\n",
    "p=int(input(\"Enter the Principle amount\\t\"))\n",
    "t=int(input(\"Enter the time period\\t\"))\n",
    "r=float(input(\"Enter the interest rate\\t\"))\n",
    "interest=(p*t*r)/100\n",
    "print(\"Simple interest is \",interest)\n"
   ]
  },
  {
   "cell_type": "code",
   "execution_count": 70,
   "id": "1da5248d",
   "metadata": {},
   "outputs": [
    {
     "name": "stdout",
     "output_type": "stream",
     "text": [
      "Enter the Principle \t50000\n",
      "Enter the time period\t2\n",
      "Enter the interest rate\t3\n",
      "Enter the amount\t12500\n",
      "Compound interest is  3045.0\n"
     ]
    }
   ],
   "source": [
    "#Python Program for compound interest\n",
    "p=int(input(\"Enter the Principle \\t\"))\n",
    "t=int(input(\"Enter the time period\\t\"))\n",
    "r=float(input(\"Enter the interest rate\\t\"))\n",
    "a=int(input(\"Enter the amount\\t\"))\n",
    "a=p*(pow((1+r/100),t))\n",
    "compound=a-p\n",
    "print(\"Compound interest is \",compound)"
   ]
  },
  {
   "cell_type": "code",
   "execution_count": 76,
   "id": "49fa1e23",
   "metadata": {},
   "outputs": [
    {
     "name": "stdout",
     "output_type": "stream",
     "text": [
      "6488.848034974573\n"
     ]
    }
   ],
   "source": [
    "def compound(principle,time,rate):\n",
    "    #principle=int(input())\n",
    "    #time=int(input())\n",
    "    #rate=float(input())\n",
    "    amount=principle*(pow((1+rate/100),time))\n",
    "    cIntr=amount-principle\n",
    "    print(cIntr)\n",
    "compound(10000, 10.25, 5)"
   ]
  },
  {
   "cell_type": "code",
   "execution_count": 1,
   "id": "aebe2fb7",
   "metadata": {},
   "outputs": [],
   "source": [
    "def mutat(string,position,character):\n",
    "    string1=input()\n",
    "    i,n=input().split()\n",
    "    newstring=mutat(string1,int(i),n)\n",
    "    return (newstring)"
   ]
  },
  {
   "cell_type": "code",
   "execution_count": 57,
   "id": "739a6bb0",
   "metadata": {},
   "outputs": [
    {
     "name": "stdout",
     "output_type": "stream",
     "text": [
      "153\n",
      "153 is a armstrong number\n"
     ]
    }
   ],
   "source": [
    "#Python Program to check Armstrong Number\n",
    "n=int(input(\"Enter the number\\t\"))\n",
    "s=0\n",
    "t=n\n",
    "while t>0:\n",
    "    digit=t%10\n",
    "    s += digit**3\n",
    "    t//=10\n",
    "if n==s:\n",
    "    print(f\"{n} is a armstrong number\")\n",
    "else:\n",
    "    print(f\"{n} is not a armstrong number\")"
   ]
  },
  {
   "cell_type": "code",
   "execution_count": 76,
   "id": "ff21ed72",
   "metadata": {},
   "outputs": [
    {
     "name": "stdout",
     "output_type": "stream",
     "text": [
      "Area of circle is  78.5\n"
     ]
    }
   ],
   "source": [
    "#Python Program for Program to find area of a circle\n",
    "#using Function\n",
    "def circle(r):\n",
    "    pi=3.14\n",
    "    return pi*(r*r)\n",
    "print(\"Area of circle is \",circle(5))"
   ]
  },
  {
   "cell_type": "code",
   "execution_count": 87,
   "id": "45be018d",
   "metadata": {},
   "outputs": [
    {
     "name": "stdout",
     "output_type": "stream",
     "text": [
      "Enter the area of Circle5\n",
      "Area of Circle is: 78.500000\n"
     ]
    }
   ],
   "source": [
    "#Without using function\n",
    "r=int(input(\"Enter the area of Circle\"))\n",
    "pi=3.14\n",
    "area=pi*(pow((r),2))\n",
    "9print(\"Area of Circle is: %3f\"%area)\n"
   ]
  },
  {
   "cell_type": "code",
   "execution_count": 1,
   "id": "be4d5746",
   "metadata": {},
   "outputs": [
    {
     "name": "stdout",
     "output_type": "stream",
     "text": [
      "Enter lower number10\n",
      "Enter upper number25\n",
      "Prime numbers between 10 and 25 are:\n",
      "11\n",
      "13\n",
      "17\n",
      "19\n",
      "23\n"
     ]
    }
   ],
   "source": [
    "lower = int(input(\"Enter lower number\"))\n",
    "upper = int(input(\"Enter upper number\"))\n",
    "\n",
    "print(\"Prime numbers between\", lower, \"and\", upper, \"are:\")\n",
    "\n",
    "for num in range(lower, upper + 1):\n",
    "   # all prime numbers are greater than 1\n",
    "   if num > 1:\n",
    "       for i in range(2, num):\n",
    "           if (num % i) == 0:\n",
    "               break\n",
    "       else:\n",
    "           print(num)"
   ]
  },
  {
   "cell_type": "code",
   "execution_count": 89,
   "id": "989bd53b",
   "metadata": {},
   "outputs": [
    {
     "name": "stdout",
     "output_type": "stream",
     "text": [
      "The prime numbers in this range are:  [2, 3, 5]\n"
     ]
    }
   ],
   "source": [
    "#Python program to print all Prime numbers in an Interval\n",
    "def prime(x, y):\n",
    "    prime_list = []\n",
    "    for i in range(x, y):\n",
    "        if i == 0 or i == 1:\n",
    "            continue\n",
    "        else:\n",
    "            for j in range(2, int(i/2)+1):\n",
    "                if i % j == 0:\n",
    "                    break\n",
    "            else:\n",
    "                prime_list.append(i)\n",
    "    return prime_list\n",
    " \n",
    "# Driver program\n",
    "starting_range = 2\n",
    "ending_range = 7\n",
    "lst = prime(starting_range, ending_range)\n",
    "if len(lst) == 0:\n",
    "    print(\"There are no prime numbers in this range\")\n",
    "else:\n",
    "    print(\"The prime numbers in this range are: \", lst)\n",
    "\n"
   ]
  },
  {
   "cell_type": "code",
   "execution_count": 13,
   "id": "1c20ecbf",
   "metadata": {},
   "outputs": [
    {
     "name": "stdout",
     "output_type": "stream",
     "text": [
      "12\n",
      "12 is not a prime number\n",
      "2 times 6 is 12\n"
     ]
    }
   ],
   "source": [
    "num=int(input())\n",
    "if num>1:\n",
    "    for i in range (2,num):\n",
    "        if (num%i)==0:\n",
    "            print(num,\"is not a prime number\")\n",
    "            print(i,\"times\",num//i,\"is\",num)\n",
    "            break\n",
    "        else:\n",
    "            print(num,\"is a prime number\")\n",
    "else:\n",
    "    print(num,\"is a prime num\")"
   ]
  },
  {
   "cell_type": "code",
   "execution_count": 16,
   "id": "2f3d9679",
   "metadata": {},
   "outputs": [
    {
     "name": "stdout",
     "output_type": "stream",
     "text": [
      "10\n",
      "10 is not a prime number\n"
     ]
    }
   ],
   "source": [
    "#Python program to check whether a number is Prime or not\n",
    "num=int(input())\n",
    "if num>1:\n",
    "    for i in range(2,num):\n",
    "        if (num%i)==0:\n",
    "            print(num,\"is not a prime number\")\n",
    "            break\n",
    "    else:\n",
    "        print(num,\"is a prime number\")\n",
    "else:\n",
    "    print(num,\"is not a prime number\")"
   ]
  },
  {
   "cell_type": "code",
   "execution_count": 37,
   "id": "0a845093",
   "metadata": {},
   "outputs": [
    {
     "name": "stdout",
     "output_type": "stream",
     "text": [
      "Enter the number fot find fibonacci\t12\n",
      "Fibonacci of 12 is 89\n"
     ]
    }
   ],
   "source": [
    "#Python Program for n-th Fibonacci number\n",
    "def fibonacci(n):\n",
    "    if n<=0:\n",
    "        print(\"Invalid input\")\n",
    "    elif n==1:\n",
    "        return 0\n",
    "    elif n==2:\n",
    "        return 1\n",
    "    else:\n",
    "        return fibonacci(n-1)+fibonacci(n-2)\n",
    "n=int(input(\"Enter the number fot find fibonacci\\t\"))\n",
    "print(\"Fibonacci of {} is {}\".format(n,fibonacci(n)))\n"
   ]
  },
  {
   "cell_type": "code",
   "execution_count": 41,
   "id": "1963f563",
   "metadata": {},
   "outputs": [
    {
     "name": "stdout",
     "output_type": "stream",
     "text": [
      "Enter the starting number1\n",
      "Enter the last number10\n",
      "1 is a fibonacci number\n",
      "2 is a fibonacci number\n",
      "3 is a fibonacci number\n",
      "4 is not a fibonacci number\n",
      "5 is a fibonacci number\n",
      "6 is not a fibonacci number\n",
      "7 is not a fibonacci number\n",
      "8 is a fibonacci number\n",
      "9 is not a fibonacci number\n"
     ]
    }
   ],
   "source": [
    "#Python Program for How to check if a given number is Fibonacci number?\n",
    "\n",
    "import math\n",
    "def isperfsqrt(x):\n",
    "    s=int(math.sqrt(x))\n",
    "    return s*s==x\n",
    "def isfib(n):\n",
    "    return isperfsqrt(5*n*n+4)or isperfsqrt(5*n*n-4)\n",
    "start=int(input(\"Enter the starting number\"))\n",
    "end=int(input(\"Enter the last number\"))\n",
    "for i in range(start,end):\n",
    "    if(isfib(i)==True):\n",
    "        print(i,\"is a fibonacci number\")\n",
    "    else:\n",
    "        print(i,\"is not a fibonacci number\")\n"
   ]
  },
  {
   "cell_type": "code",
   "execution_count": 46,
   "id": "47c53a55",
   "metadata": {},
   "outputs": [
    {
     "name": "stdout",
     "output_type": "stream",
     "text": [
      "position of n'th multiple of k in fibonocci series is  10\n"
     ]
    }
   ],
   "source": [
    "#Python Program for n\\’th multiple of a number in Fibonacci Series\n",
    "def findpos(k,n):\n",
    "    f1=0\n",
    "    f2=1\n",
    "    i=2\n",
    "    while i!=0:\n",
    "        f3=f1+f2\n",
    "        f1=f2\n",
    "        f2=f3\n",
    "        if f2%k==0:\n",
    "            return n*i\n",
    "    n+=1\n",
    "    return\n",
    "n=5\n",
    "k=4\n",
    "print(\"position of n'th multiple of k in\",\"fibonocci series is \",findpos(k,n))"
   ]
  },
  {
   "cell_type": "code",
   "execution_count": 47,
   "id": "3d53455a",
   "metadata": {},
   "outputs": [
    {
     "name": "stdout",
     "output_type": "stream",
     "text": [
      "s\n",
      "ASCII value of s  is 115\n"
     ]
    }
   ],
   "source": [
    "#Program to print ASCII Value of a character\n",
    "string1=input()\n",
    "print(f\"ASCII value of {string1}  is\",ord(string1))"
   ]
  },
  {
   "cell_type": "code",
   "execution_count": 60,
   "id": "239f92c1",
   "metadata": {},
   "outputs": [
    {
     "name": "stdout",
     "output_type": "stream",
     "text": [
      "4\n",
      "Sum of squares of natural numbers is: 30\n"
     ]
    }
   ],
   "source": [
    "#Python Program for Sum of squares of first n natural numbers\n",
    "def squares(n):\n",
    "    sum=0\n",
    "    for i in range(1,n+1):\n",
    "        sum=sum+(i*i)\n",
    "    return sum\n",
    "n=int(input())\n",
    "print(\"Sum of squares of natural numbers is:\",squares(n))"
   ]
  },
  {
   "cell_type": "code",
   "execution_count": 63,
   "id": "0f4bac6e",
   "metadata": {},
   "outputs": [
    {
     "name": "stdout",
     "output_type": "stream",
     "text": [
      "4\n",
      "Sum of squares of natural numbers is: 100\n"
     ]
    }
   ],
   "source": [
    "#Python Program for cube sum of first n natural numbers\n",
    "def squares(n):\n",
    "    sum=0\n",
    "    for i in range(1,n+1):\n",
    "        sum+=(i*i*i)\n",
    "    return sum\n",
    "n=int(input())\n",
    "print(\"Sum of squares of natural numbers is:\",squares(n))"
   ]
  },
  {
   "cell_type": "code",
   "execution_count": 11,
   "id": "56784e49",
   "metadata": {},
   "outputs": [
    {
     "name": "stdout",
     "output_type": "stream",
     "text": [
      "[40, 20, 5, 3, 10]\n"
     ]
    }
   ],
   "source": [
    "#Python program to interchange first and last elements in a list\n",
    "def Ele(list1):\n",
    "    size=len(list1)\n",
    "    temp=list1[0]\n",
    "    list1[0]=list1[size-1]\n",
    "    list1[size-1]=temp\n",
    "    return list1\n",
    "list1=[10,20,5,3,40]\n",
    "print(Ele(list1))"
   ]
  },
  {
   "cell_type": "code",
   "execution_count": 8,
   "id": "b29116e4",
   "metadata": {},
   "outputs": [
    {
     "name": "stdout",
     "output_type": "stream",
     "text": [
      "[70, 20, 50, 40, 10, 10]\n"
     ]
    },
    {
     "data": {
      "text/plain": [
       "[70, 20, 50, 5, 10, 10]"
      ]
     },
     "execution_count": 8,
     "metadata": {},
     "output_type": "execute_result"
    }
   ],
   "source": [
    "#without using function\n",
    "ele=[10,20,50,40,10,70]\n",
    "size=len(ele)\n",
    "temp=ele[0]\n",
    "ele[0]=ele[size-1]\n",
    "ele[size-1]=temp\n",
    "print(ele)\n",
    "ele[3]=5\n",
    "ele"
   ]
  },
  {
   "cell_type": "code",
   "execution_count": 18,
   "id": "144bd46b",
   "metadata": {},
   "outputs": [
    {
     "name": "stdout",
     "output_type": "stream",
     "text": [
      "swap list is [30, 20, 10, 40, 50]\n"
     ]
    }
   ],
   "source": [
    "#Python program to swap two elements in a list\n",
    "def swap(ind1,ind2,ele):\n",
    "    ele[ind1],ele[ind2]=ele[ind2],ele[ind1]\n",
    "    return ele\n",
    "ele=[10,20,30,40,50]\n",
    "ind1,ind2=1,3\n",
    "print(\"Swap list is\",swap(ind1-1,ind2-1,ele))"
   ]
  },
  {
   "cell_type": "code",
   "execution_count": 16,
   "id": "f4449459",
   "metadata": {},
   "outputs": [
    {
     "name": "stdout",
     "output_type": "stream",
     "text": [
      "[10, 40, 50, 20, 10, 70]\n"
     ]
    }
   ],
   "source": [
    "ele=[10,20,50,40,10,70]\n",
    "ele[1],ele[3]=ele[3],ele[1]\n",
    "print(ele)"
   ]
  },
  {
   "cell_type": "code",
   "execution_count": 20,
   "id": "1f556f27",
   "metadata": {},
   "outputs": [
    {
     "name": "stdout",
     "output_type": "stream",
     "text": [
      "list is [1, 2, 3, 4, 5, 6]\n",
      "6\n"
     ]
    }
   ],
   "source": [
    "#Python | Ways to find length of list\n",
    "list1=[1,2,3,4,5,6]\n",
    "print(\"list is\",list1)\n",
    "counter=0\n",
    "for i in list1:\n",
    "    counter+=1\n",
    "print(counter)"
   ]
  },
  {
   "cell_type": "code",
   "execution_count": 21,
   "id": "ea367899",
   "metadata": {},
   "outputs": [
    {
     "name": "stdout",
     "output_type": "stream",
     "text": [
      "8\n"
     ]
    }
   ],
   "source": [
    "list1=[4,5,8,9,6,7,8,4]\n",
    "length=len(list1)\n",
    "print(length)"
   ]
  },
  {
   "cell_type": "code",
   "execution_count": 68,
   "id": "94a41060",
   "metadata": {},
   "outputs": [
    {
     "name": "stdout",
     "output_type": "stream",
     "text": [
      "Enter the element to find\t10\n",
      "10 not exists in list\n"
     ]
    }
   ],
   "source": [
    "#Check if element exists in list in Python\n",
    "def findEle(list1,element):\n",
    "    if element in list1:\n",
    "        print(element,\"exists in list\")\n",
    "    else:\n",
    "        print(element,\"not exists in list\")\n",
    "li1=[1,2,3,4,5,6]\n",
    "element=int(input(\"Enter the element to find\\t\"))\n",
    "findEle(li1,element)\n",
    "\n"
   ]
  },
  {
   "cell_type": "code",
   "execution_count": 71,
   "id": "822056b5",
   "metadata": {},
   "outputs": [
    {
     "name": "stdout",
     "output_type": "stream",
     "text": [
      "Before clearing [1, 2, 3, 4, 5, 6, 7, 8, 9]\n",
      "After clearing []\n"
     ]
    }
   ],
   "source": [
    "#Different ways to clear a list in Python\n",
    "list1=[1,2,3,4,5,6,7,8,9]\n",
    "print(\"Before clearing\",list1)\n",
    "list1.clear()\n",
    "print(\"After clearing\",list1)"
   ]
  },
  {
   "cell_type": "code",
   "execution_count": 77,
   "id": "c360f782",
   "metadata": {},
   "outputs": [
    {
     "data": {
      "text/plain": [
       "[7, 6, 5, 4, 3, 2, 1]"
      ]
     },
     "execution_count": 77,
     "metadata": {},
     "output_type": "execute_result"
    }
   ],
   "source": [
    "#Python | Reversing a List\n",
    "def revList(lis1):\n",
    "    lis1.reverse()\n",
    "    return lis1\n",
    "list1=[1,2,3,4,5,6,7]\n",
    "revList(list1)"
   ]
  },
  {
   "cell_type": "code",
   "execution_count": 79,
   "id": "73eaf12d",
   "metadata": {},
   "outputs": [
    {
     "data": {
      "text/plain": [
       "110"
      ]
     },
     "execution_count": 79,
     "metadata": {},
     "output_type": "execute_result"
    }
   ],
   "source": [
    "#Python program to find sum of elements in list\n",
    "list1=[10,20,50,10,20]\n",
    "sum=sum(list1)\n",
    "sum"
   ]
  },
  {
   "cell_type": "code",
   "execution_count": 80,
   "id": "71f3fae5",
   "metadata": {},
   "outputs": [
    {
     "name": "stdout",
     "output_type": "stream",
     "text": [
      "Sum of elements in the list 10\n"
     ]
    }
   ],
   "source": [
    "#Using for loop\n",
    "list1=[1,2,3,4]\n",
    "total=0\n",
    "for i in range(0,len(list1)):\n",
    "    total=total+list1[i]\n",
    "print(\"Sum of elements in the list\",total)"
   ]
  },
  {
   "cell_type": "code",
   "execution_count": 87,
   "id": "0a34bad6",
   "metadata": {},
   "outputs": [
    {
     "data": {
      "text/plain": [
       "6000"
      ]
     },
     "execution_count": 87,
     "metadata": {},
     "output_type": "execute_result"
    }
   ],
   "source": [
    "#Python | Multiply all numbers in the list (4 different ways)\n",
    "def multiplyList(list1):\n",
    "    output=1\n",
    "    for i in list1:\n",
    "        output=output*i\n",
    "    return output\n",
    "li1=[10,20,30]\n",
    "multiplyList(li1)    "
   ]
  },
  {
   "cell_type": "code",
   "execution_count": 96,
   "id": "e22dd1fe",
   "metadata": {},
   "outputs": [
    {
     "name": "stdout",
     "output_type": "stream",
     "text": [
      "1  is a smallest element in the list\n"
     ]
    }
   ],
   "source": [
    "#Python program to find smallest number in a list\n",
    "list1=[5,6,7,2,1,8]\n",
    "list1.sort()\n",
    "print(*list1[:1], \" is a smallest element in the list\")"
   ]
  },
  {
   "cell_type": "code",
   "execution_count": 98,
   "id": "05fac5b3",
   "metadata": {},
   "outputs": [
    {
     "name": "stdout",
     "output_type": "stream",
     "text": [
      "1  is a smallest element in the list\n"
     ]
    }
   ],
   "source": [
    "#using min()method\n",
    "list1=[5,6,7,2,1,8]\n",
    "print(min(list1),\" is a smallest element in the list\")"
   ]
  },
  {
   "cell_type": "code",
   "execution_count": 103,
   "id": "889a4e72",
   "metadata": {},
   "outputs": [
    {
     "name": "stdout",
     "output_type": "stream",
     "text": [
      "8  is a largest element in the list\n"
     ]
    }
   ],
   "source": [
    "#Python program to find largest number in a list\n",
    "list1=[5,6,7,2,1,8]\n",
    "list1.sort()\n",
    "print(list1[-1], \" is a largest element in the list\")"
   ]
  },
  {
   "cell_type": "code",
   "execution_count": 104,
   "id": "3736546b",
   "metadata": {},
   "outputs": [
    {
     "name": "stdout",
     "output_type": "stream",
     "text": [
      "8  is a largest element in the list\n"
     ]
    }
   ],
   "source": [
    "#Using max()method\n",
    "list1=[5,6,7,2,1,8]\n",
    "print(max(list1),\" is a largest element in the list\")"
   ]
  },
  {
   "cell_type": "code",
   "execution_count": 107,
   "id": "9fcc0b69",
   "metadata": {},
   "outputs": [
    {
     "name": "stdout",
     "output_type": "stream",
     "text": [
      "Enter the number of elements\t4\n",
      "Enter the elements\t5\n",
      "Enter the elements\t8\n",
      "Enter the elements\t9\n",
      "Enter the elements\t10\n",
      "List is [5, 8, 9, 10]\n",
      "10  is largest element in the list \n"
     ]
    }
   ],
   "source": [
    "#using for loop\n",
    "li1=[]\n",
    "num=int(input(\"Enter the number of elements\\t\"))\n",
    "for i in range(1,num+1):\n",
    "    ele=int(input(\"Enter the elements\\t\"))\n",
    "    li1.append(ele)\n",
    "print(\"List is\",li1)\n",
    "print(max(li1),\" is largest element in the list \")"
   ]
  },
  {
   "cell_type": "code",
   "execution_count": 111,
   "id": "157b7db7",
   "metadata": {},
   "outputs": [
    {
     "name": "stdout",
     "output_type": "stream",
     "text": [
      "largest num in the list is 99\n"
     ]
    }
   ],
   "source": [
    "#Using function\n",
    "def liMax(list1):\n",
    "    max=list1[0]\n",
    "    for i in list1:\n",
    "        if i>max:\n",
    "            max=i\n",
    "    return max\n",
    "list1=[1,99,10,4,5,6,7,8,9]\n",
    "print(\"largest num in the list is\",max(list1))"
   ]
  },
  {
   "cell_type": "code",
   "execution_count": 119,
   "id": "23e59d5a",
   "metadata": {},
   "outputs": [
    {
     "name": "stdout",
     "output_type": "stream",
     "text": [
      "Two maximum numbers in list are [28, 25]\n"
     ]
    }
   ],
   "source": [
    "def maxList(list1,N):\n",
    "    final=[]\n",
    "    for i in range(0,N):\n",
    "        max1=0\n",
    "        for j in range(len(list1)):\n",
    "            if list1[j]>max1:\n",
    "                max1=list1[j]\n",
    "        list1.remove(max1)\n",
    "        final.append(max1)\n",
    "    print(\"Two maximum numbers in list are\",final)\n",
    "list1=[1,23,5,9,10,25,28]\n",
    "N=2\n",
    "maxList(list1,N)"
   ]
  },
  {
   "cell_type": "code",
   "execution_count": 127,
   "id": "7fbf1d4b",
   "metadata": {},
   "outputs": [
    {
     "name": "stdout",
     "output_type": "stream",
     "text": [
      "2 8 4 42 92 "
     ]
    }
   ],
   "source": [
    "#Python program to print even numbers in a list\n",
    "list1=[2,5,7,8,9,4,5,85,42,89,92]\n",
    "for num in list1:\n",
    "    if num%2==0:\n",
    "        print(num,end=\" \")"
   ]
  },
  {
   "cell_type": "code",
   "execution_count": 128,
   "id": "398fa625",
   "metadata": {},
   "outputs": [
    {
     "name": "stdout",
     "output_type": "stream",
     "text": [
      "Even numbers in the list is [2, 8, 4, 42, 92]\n"
     ]
    }
   ],
   "source": [
    "# Using list comprehension \n",
    "list1=[2,5,7,8,9,4,5,85,42,89,92]\n",
    "evenList=[num for num in list1 if num%2==0]\n",
    "print(\"Even numbers in the list is\",evenList)"
   ]
  },
  {
   "cell_type": "code",
   "execution_count": 130,
   "id": "68dbed90",
   "metadata": {},
   "outputs": [
    {
     "name": "stdout",
     "output_type": "stream",
     "text": [
      "5 7 9 5 85 89 "
     ]
    }
   ],
   "source": [
    "#Python program to print odd numbers in a List\n",
    "list1=[2,5,7,8,9,4,5,85,42,89,92]\n",
    "for num in list1:\n",
    "    if num%2!=0:\n",
    "        print(num,end=\" \")"
   ]
  },
  {
   "cell_type": "code",
   "execution_count": 131,
   "id": "b146023b",
   "metadata": {},
   "outputs": [
    {
     "name": "stdout",
     "output_type": "stream",
     "text": [
      "Even numbers in the list is [5, 7, 9, 5, 85, 89]\n"
     ]
    }
   ],
   "source": [
    "# Using list comprehension \n",
    "list1=[2,5,7,8,9,4,5,85,42,89,92]\n",
    "evenList=[num for num in list1 if num%2!=0]\n",
    "print(\"Even numbers in the list is\",evenList)"
   ]
  },
  {
   "cell_type": "code",
   "execution_count": 132,
   "id": "f89835f3",
   "metadata": {},
   "outputs": [
    {
     "name": "stdout",
     "output_type": "stream",
     "text": [
      "4\n",
      "10\n",
      "4 6 8 10 "
     ]
    }
   ],
   "source": [
    "#Python program to print all even numbers in a range\n",
    "start=int(input())\n",
    "end=int(input())\n",
    "for num in range(start,end+1):\n",
    "    if num%2==0:\n",
    "        print(num,end=\" \")"
   ]
  },
  {
   "cell_type": "code",
   "execution_count": 1,
   "id": "dff7fb78",
   "metadata": {},
   "outputs": [
    {
     "name": "stdout",
     "output_type": "stream",
     "text": [
      "28\n",
      "50\n",
      "29 31 33 35 37 39 41 43 45 47 49 "
     ]
    }
   ],
   "source": [
    "#Python program to print all odd numbers in a range\n",
    "start=int(input())\n",
    "end=int(input())\n",
    "for num in range(start,end+1):\n",
    "    if num%2!=0:\n",
    "        print(num,end=\" \")"
   ]
  },
  {
   "cell_type": "code",
   "execution_count": 10,
   "id": "ce49fddd",
   "metadata": {},
   "outputs": [
    {
     "name": "stdout",
     "output_type": "stream",
     "text": [
      "10 1 25 "
     ]
    }
   ],
   "source": [
    "#Python program to print positive numbers in a list\n",
    "list1=[10,1,25,-1,-145,-25]\n",
    "for num in list1:\n",
    "    if num>=0:\n",
    "        print(num,end=' ')\n"
   ]
  },
  {
   "cell_type": "code",
   "execution_count": 22,
   "id": "ac778b04",
   "metadata": {},
   "outputs": [
    {
     "name": "stdout",
     "output_type": "stream",
     "text": [
      "Positive nums in the list are as follows\n",
      "10 1 25 10 1 25 "
     ]
    }
   ],
   "source": [
    "#using function\n",
    "def posList(list1):\n",
    "    for num in list1:\n",
    "        if num>=0:\n",
    "            print(num,end=' ')\n",
    "print(\"Positive nums in the list are as follows\")\n",
    "lisele=[10,1,25,-1,-145,-25]\n",
    "posList(lisele)"
   ]
  },
  {
   "cell_type": "code",
   "execution_count": 24,
   "id": "313a7290",
   "metadata": {},
   "outputs": [
    {
     "name": "stdout",
     "output_type": "stream",
     "text": [
      "10 20 20 "
     ]
    }
   ],
   "source": [
    "#Using while loop\n",
    "list1=[10,-10,20,-1,20,-1]\n",
    "num=0\n",
    "while (num<len(list1)):\n",
    "    if list1[num]>=0:\n",
    "        print(list1[num],end=' ')\n",
    "    num+=1"
   ]
  },
  {
   "cell_type": "code",
   "execution_count": 25,
   "id": "fc9d7602",
   "metadata": {},
   "outputs": [
    {
     "name": "stdout",
     "output_type": "stream",
     "text": [
      "Negative numbers in the list are as follows\n",
      "-1 -2 -8 -7 "
     ]
    }
   ],
   "source": [
    "#Python program to print negative numbers in a list\n",
    "def neg(list1):\n",
    "    for num in list1:\n",
    "        if num<0:\n",
    "            print(num,end=' ')\n",
    "list1=[-1,-2,-8,2,1,4,5,8,-7]\n",
    "print(\"Negative numbers in the list are as follows\")\n",
    "neg(list1)"
   ]
  },
  {
   "cell_type": "code",
   "execution_count": 29,
   "id": "dc24228e",
   "metadata": {},
   "outputs": [
    {
     "name": "stdout",
     "output_type": "stream",
     "text": [
      "-1 -2 -8 -7 "
     ]
    }
   ],
   "source": [
    "list1=[-1,-2,-8,2,1,4,5,8,-7]\n",
    "num=0\n",
    "while (num<len(list1)):\n",
    "    if list1[num]<0:\n",
    "        print(list1[num],end=' ')\n",
    "    num+=1"
   ]
  },
  {
   "cell_type": "code",
   "execution_count": 30,
   "id": "27f2ff91",
   "metadata": {},
   "outputs": [
    {
     "name": "stdout",
     "output_type": "stream",
     "text": [
      "-1 -2 -8 -7 "
     ]
    }
   ],
   "source": [
    "#using for loop\n",
    "lis1=[3,-8,-8,-5,2,5,4,-10]\n",
    "for num in list1:\n",
    "    if num<0:\n",
    "        print(num,end=' ')"
   ]
  },
  {
   "cell_type": "code",
   "execution_count": 44,
   "id": "c55ce9d8",
   "metadata": {},
   "outputs": [
    {
     "name": "stdout",
     "output_type": "stream",
     "text": [
      "1 5 555\n"
     ]
    }
   ],
   "source": [
    "#Remove multiple elements from a list in Python\n",
    "list1=[1,5,4,6,8,88,6,555,44]\n",
    "list1=(num for num in list1 if num%2!=0)\n",
    "print(*list1)"
   ]
  },
  {
   "cell_type": "code",
   "execution_count": 45,
   "id": "df896553",
   "metadata": {},
   "outputs": [
    {
     "name": "stdout",
     "output_type": "stream",
     "text": [
      "1 3 5 7 9 99 7 7 "
     ]
    }
   ],
   "source": [
    "list1=[1,3,4,5,7,9,99,8,7,7,6,6]\n",
    "for num in list1:\n",
    "    if num%2!=0:\n",
    "        print(num,end=' ')"
   ]
  },
  {
   "cell_type": "code",
   "execution_count": 70,
   "id": "df75e72e",
   "metadata": {},
   "outputs": [
    {
     "name": "stdout",
     "output_type": "stream",
     "text": [
      "before removal[1, 2, 3, 4, 5, [], [3], []]\n",
      "after removal[1, 2, 3, 4, 5, [3]]\n"
     ]
    }
   ],
   "source": [
    "list1=[1,2,3,4,5,[],[3],[]]\n",
    "print(\"before removal\"+ str(list1))\n",
    "res=[num for num in list1 if num!=[]]\n",
    "print(\"after removal\"+ str(res))"
   ]
  },
  {
   "cell_type": "code",
   "execution_count": 72,
   "id": "90cb04db",
   "metadata": {},
   "outputs": [
    {
     "data": {
      "text/plain": [
       "[1, 4, 5, 6, 7, 9, 54, 'txt', 'king']"
      ]
     },
     "execution_count": 72,
     "metadata": {},
     "output_type": "execute_result"
    }
   ],
   "source": [
    "#Python | Cloning or Copying a list\n",
    "list1=[1,4,5,6,7,9,54]\n",
    "list2=[\"txt\",\"king\"]\n",
    "list1.extend(list2)\n",
    "list1"
   ]
  },
  {
   "cell_type": "code",
   "execution_count": 75,
   "id": "9145b3d1",
   "metadata": {},
   "outputs": [
    {
     "data": {
      "text/plain": [
       "[1, 4, 5, 6, 7, 9, 54, 'txt', 'king']"
      ]
     },
     "execution_count": 75,
     "metadata": {},
     "output_type": "execute_result"
    }
   ],
   "source": [
    "list1=[1,4,5,6,7,9,54]\n",
    "list2=[\"txt\",\"king\"]\n",
    "list3=list1+list2\n",
    "list3"
   ]
  },
  {
   "cell_type": "code",
   "execution_count": 77,
   "id": "334fdb2d",
   "metadata": {},
   "outputs": [
    {
     "data": {
      "text/plain": [
       "[1, 4, 5, 6, 7, 9, 54]"
      ]
     },
     "execution_count": 77,
     "metadata": {},
     "output_type": "execute_result"
    }
   ],
   "source": [
    "list1=[1,4,5,6,7,9,54]\n",
    "list2=list1\n",
    "list2\n"
   ]
  },
  {
   "cell_type": "code",
   "execution_count": 82,
   "id": "1786f91e",
   "metadata": {},
   "outputs": [
    {
     "name": "stdout",
     "output_type": "stream",
     "text": [
      "before clone [2, 3, 4, 5, 6, 9]\n",
      "after clone [2, 3, 4, 5, 6, 9]\n"
     ]
    }
   ],
   "source": [
    "def clone1(list1):\n",
    "    list2=list1[:]\n",
    "    return list2\n",
    "list1=[2,3,4,5,6,9]\n",
    "lis3=clone1(list1)\n",
    "print(\"before clone\",list1)\n",
    "print(\"after clone\",lis3)\n",
    "\n"
   ]
  },
  {
   "cell_type": "code",
   "execution_count": 91,
   "id": "6959be7a",
   "metadata": {},
   "outputs": [
    {
     "name": "stdout",
     "output_type": "stream",
     "text": [
      "before clone ['s', 2, 3, 4, True]\n",
      "after clone ['s', 2, 3, 4, True]\n"
     ]
    },
    {
     "data": {
      "text/plain": [
       "['s', 2, 3, 4, True]"
      ]
     },
     "execution_count": 91,
     "metadata": {},
     "output_type": "execute_result"
    }
   ],
   "source": [
    "def clone(lis1):\n",
    "    listemp=[]\n",
    "    listemp.extend(lis1)\n",
    "    return listemp\n",
    "lis1=[\"s\",2,3,4,True]\n",
    "clone(lis1)\n",
    "print(\"before clone\",lis1)\n",
    "print(\"after clone\",clone(lis1))\n",
    "clone(lis1)"
   ]
  },
  {
   "cell_type": "code",
   "execution_count": 92,
   "id": "7599700d",
   "metadata": {},
   "outputs": [
    {
     "name": "stdout",
     "output_type": "stream",
     "text": [
      "before clone [4, 5, 7, 8, 88, 'gowda']\n",
      "after clone [4, 5, 7, 8, 88, 'gowda']\n"
     ]
    }
   ],
   "source": [
    "def clonelist(lists1):\n",
    "    listnew=list(lists1)\n",
    "    return listnew\n",
    "lists1=[4,5,7,8,88,\"gowda\"]\n",
    "clonelist(lists1)\n",
    "print(\"before clone\",lists1)\n",
    "print(\"after clone\",clonelist(lists1))\n"
   ]
  },
  {
   "cell_type": "code",
   "execution_count": 125,
   "id": "a18b9384",
   "metadata": {},
   "outputs": [
    {
     "name": "stdout",
     "output_type": "stream",
     "text": [
      "4\n",
      "4 is occurd 2 times in the list\n"
     ]
    }
   ],
   "source": [
    "#Python | Count occurrences of an element in a list\n",
    "list1=[1,2,3,4,5,5,6,4,3,22,1,1,2]\n",
    "count=0\n",
    "x=int(input())\n",
    "for num in list1:\n",
    "    if (num==x):\n",
    "        count+=1\n",
    "print(\"{} is occurd {} times in the list\".format(x,count))"
   ]
  },
  {
   "cell_type": "code",
   "execution_count": 122,
   "id": "4da91a55",
   "metadata": {},
   "outputs": [
    {
     "name": "stdout",
     "output_type": "stream",
     "text": [
      "4\n",
      "4 is Occured 7 times in the list\n"
     ]
    }
   ],
   "source": [
    "#Using function\n",
    "def numCount(list1,x):\n",
    "    count=0\n",
    "    for i in list1:\n",
    "        if i==x:\n",
    "            count+=1\n",
    "    return count\n",
    "list1=[1,4,5,4,7,4,2,1,7,4,5,4,7,4,4]\n",
    "x=int(input())\n",
    "numCount(list1,x)\n",
    "print(f\"{x} is Occured {numCount(list1,x)} times in the list\")\n",
    "   "
   ]
  },
  {
   "cell_type": "code",
   "execution_count": 131,
   "id": "9e52aa6f",
   "metadata": {},
   "outputs": [
    {
     "name": "stdout",
     "output_type": "stream",
     "text": [
      "Before removal [1, 2, (2, 3), (), (4, 5), ()]\n",
      "After removal [1, 2, (2, 3), (4, 5)]\n"
     ]
    }
   ],
   "source": [
    "#Python | Remove empty tuples from a list\n",
    "def remove1(tup):\n",
    "    tup=[t for t in tup if t!=()]\n",
    "    return tup\n",
    "tup=[1,2,(2,3),(),(4,5,),()]\n",
    "remove1(tup)\n",
    "print(\"Before removal\",tup)\n",
    "print(\"After removal\",remove1(tup))"
   ]
  },
  {
   "cell_type": "code",
   "execution_count": null,
   "id": "f7e8d3e5",
   "metadata": {},
   "outputs": [],
   "source": [
    "#Python | Program to print duplicates from a list of integers"
   ]
  },
  {
   "cell_type": "code",
   "execution_count": 145,
   "id": "bf0225e0",
   "metadata": {},
   "outputs": [
    {
     "data": {
      "text/plain": [
       "[0, 1, 3, 8, 12, 20, 30]"
      ]
     },
     "execution_count": 145,
     "metadata": {},
     "output_type": "execute_result"
    }
   ],
   "source": [
    "#Python program to find Cumulative sum of a list\n",
    "def cumu(list1):\n",
    "    culi=[]\n",
    "    length =len(list1)\n",
    "    culi=[sum(list1[0:i:1]) for i in range(0,length+1)]\n",
    "    return culi[:]\n",
    "list1=[1,2,5,4,8,10]\n",
    "cumu(list1)"
   ]
  },
  {
   "cell_type": "code",
   "execution_count": 146,
   "id": "66e4b05a",
   "metadata": {},
   "outputs": [
    {
     "name": "stdout",
     "output_type": "stream",
     "text": [
      "Original list is[11, 22, 33, 44, 55]\n",
      "After summation[2, 4, 6, 8, 10]\n"
     ]
    }
   ],
   "source": [
    "#Python | Sum of number digits in List\n",
    "list1=[11,22,33,44,55]\n",
    "print(\"Original list is\"+str(list1))\n",
    "res=[]\n",
    "for ele in list1:\n",
    "    sum=0\n",
    "    for digit in str(ele):\n",
    "        sum+=int(digit)\n",
    "    res.append(sum)\n",
    "print(\"After summation\"+str(res))"
   ]
  },
  {
   "cell_type": "code",
   "execution_count": 149,
   "id": "6380a76a",
   "metadata": {},
   "outputs": [
    {
     "name": "stdout",
     "output_type": "stream",
     "text": [
      "[[11, 22], [33, 44], [55]]\n"
     ]
    }
   ],
   "source": [
    "#Break a list into chunks of size N in Python\n",
    "def devid(l,n):\n",
    "    for i in range(0,len(l),n):\n",
    "        yield l[i:i+n]\n",
    "n=2\n",
    "k=list(devid(list1,n))\n",
    "list1=[\"ab\",\"ac\",\"ad\",\"ae\",\"af\",\"ag\",\"ah\",\"ai\"]\n",
    "print(k)"
   ]
  },
  {
   "cell_type": "code",
   "execution_count": 157,
   "id": "3f505141",
   "metadata": {},
   "outputs": [
    {
     "name": "stdout",
     "output_type": "stream",
     "text": [
      "['d', 'g', 'a', 'c', 't', 'u', 'f', 'h']\n"
     ]
    }
   ],
   "source": [
    "#Sort the values of first list using second list in Python\n",
    "def sortLi(li1,li2):\n",
    "    ziplist=zip(li2,li1)\n",
    "    z=[x for _, x in sorted(ziplist)]\n",
    "    return z\n",
    "x=[\"a\",\"c\",\"d\",\"f\",\"t\",\"g\",\"h\",\"u\"]\n",
    "y=[1,1,0,2,1,0,2,1]\n",
    "print(sortLi(x,y))"
   ]
  },
  {
   "cell_type": "markdown",
   "id": "1db282a4",
   "metadata": {},
   "source": [
    "# Strings"
   ]
  },
  {
   "cell_type": "code",
   "execution_count": 167,
   "id": "949c2788",
   "metadata": {},
   "outputs": [
    {
     "name": "stdout",
     "output_type": "stream",
     "text": [
      "madam\n",
      "The string is Palindrome\n"
     ]
    }
   ],
   "source": [
    "#Python program to check if a string is palindrome or not\n",
    "def palin(s):\n",
    "    return s==s[::-1]\n",
    "s=input()\n",
    "ans=palin(s)\n",
    "if ans:\n",
    "    print(\"The string is Palindrome\")\n",
    "else:\n",
    "    print(\"The string is not a Palindrome\")"
   ]
  },
  {
   "cell_type": "code",
   "execution_count": 169,
   "id": "e008e340",
   "metadata": {},
   "outputs": [
    {
     "name": "stdout",
     "output_type": "stream",
     "text": [
      "Gowda Kolar\n",
      "Reverse sentence is Kolar Gowda\n"
     ]
    }
   ],
   "source": [
    "#Reverse words in a given String in Python\n",
    "def revsen(sentence):\n",
    "    words=sentence.split(' ')\n",
    "    rev_sentence=\" \".join(reversed(words))\n",
    "    return rev_sentence\n",
    "sentence=input()\n",
    "print(\"Reverse sentence is\",revsen(sentence))"
   ]
  },
  {
   "cell_type": "code",
   "execution_count": 172,
   "id": "65150e1f",
   "metadata": {},
   "outputs": [
    {
     "name": "stdout",
     "output_type": "stream",
     "text": [
      "abccdef\n",
      "The original string is\tabccdef\n",
      "String after removal of i'th Char\t abcdef\n"
     ]
    }
   ],
   "source": [
    "#Ways to remove i’th character from string in Python\n",
    "string1=input()\n",
    "print(\"The original string is\\t\"+string1)\n",
    "newStr=\" \"\n",
    "for i in range(len(string1)):\n",
    "    if i!=2:\n",
    "        newStr=newStr+string1[i]\n",
    "print(\"String after removal of i'th Char\\t\"+newStr)"
   ]
  },
  {
   "cell_type": "code",
   "execution_count": 188,
   "id": "186a498b",
   "metadata": {},
   "outputs": [
    {
     "name": "stdout",
     "output_type": "stream",
     "text": [
      "'Yes' Substring present in String\n"
     ]
    }
   ],
   "source": [
    "#Python | Check if a Substring is Present in a Given String\n",
    "def string(str1,subStr):\n",
    "    if (str1.find(subStr)==-1):\n",
    "        print(\"'No' Substring in String\")\n",
    "    else:\n",
    "        print(\"'Yes' Substring present in String\")\n",
    "str1=\"Kolar Gowda\"\n",
    "subStr=\"Kolar\"\n",
    "string(str1,subStr)"
   ]
  },
  {
   "cell_type": "code",
   "execution_count": 192,
   "id": "d65ea4e8",
   "metadata": {},
   "outputs": [
    {
     "name": "stdout",
     "output_type": "stream",
     "text": [
      "Original String isKolar welcomes you Kolar is golden city\n",
      "The word frequency{'Kolar': 2, 'welcomes': 1, 'you': 1, 'is': 1, 'golden': 1, 'city': 1}\n"
     ]
    }
   ],
   "source": [
    "#Python – Words Frequency in String Shorthands\n",
    "string=\"Kolar welcomes you Kolar is golden city\"\n",
    "print(\"Original String is\"+string)\n",
    "res={key:string.count(key) for key in string.split()}\n",
    "print(\"The word frequency\"+str(res))"
   ]
  },
  {
   "cell_type": "code",
   "execution_count": 195,
   "id": "8d765c29",
   "metadata": {},
   "outputs": [
    {
     "name": "stdout",
     "output_type": "stream",
     "text": [
      "Original string is\tkolar_byre_gowda\n",
      "String after changing case\tKolarByreGowda\n"
     ]
    }
   ],
   "source": [
    "#Python – Convert Snake case to Pascal case\n",
    "string=\"kolar_byre_gowda\"\n",
    "print(\"Original string is\\t\"+string)\n",
    "res=string.replace(\"_\",\" \").title().replace(\" \",\"\")\n",
    "print(\"String after changing case\\t\"+str(res))"
   ]
  },
  {
   "cell_type": "code",
   "execution_count": 196,
   "id": "1df41043",
   "metadata": {},
   "outputs": [
    {
     "name": "stdout",
     "output_type": "stream",
     "text": [
      "kolar gowda\n",
      "Length of string is 11\n"
     ]
    }
   ],
   "source": [
    "#Find length of a string in python (4 ways)\n",
    "str1=input()\n",
    "length=len(str1)\n",
    "print(\"Length of string is\",length)"
   ]
  },
  {
   "cell_type": "code",
   "execution_count": 203,
   "id": "f9f6d6b7",
   "metadata": {},
   "outputs": [
    {
     "name": "stdout",
     "output_type": "stream",
     "text": [
      "kolar\n",
      "Length of string is 5\n"
     ]
    }
   ],
   "source": [
    "#using function\n",
    "def strlen(string):\n",
    "    counter=0\n",
    "    for i in string:\n",
    "        counter+=1\n",
    "    return counter\n",
    "string=input()\n",
    "print(\"Length of string is\",strlen(string))\n",
    "      \n",
    "    "
   ]
  },
  {
   "cell_type": "code",
   "execution_count": 205,
   "id": "0a51cd74",
   "metadata": {},
   "outputs": [
    {
     "name": "stdout",
     "output_type": "stream",
     "text": [
      "gowda\n",
      "Length of string is 5\n"
     ]
    }
   ],
   "source": [
    "#Using while loop\n",
    "def strlen(string):\n",
    "    count=0\n",
    "    while string[count:]:\n",
    "        count+=1\n",
    "    return count\n",
    "string=input()\n",
    "print(\"Length of string is\" , strlen(string))"
   ]
  },
  {
   "cell_type": "code",
   "execution_count": 208,
   "id": "98eb8260",
   "metadata": {},
   "outputs": [
    {
     "name": "stdout",
     "output_type": "stream",
     "text": [
      "gowda@123\n",
      "9\n"
     ]
    }
   ],
   "source": [
    "#using count & join\n",
    "def strlen(string):\n",
    "    if not string:\n",
    "        return 0\n",
    "    else:\n",
    "        string_random='py'\n",
    "        return((string).join(string)).count(string)+1\n",
    "string=input()\n",
    "print(strlen(string))"
   ]
  },
  {
   "cell_type": "code",
   "execution_count": 219,
   "id": "1ef87ac8",
   "metadata": {},
   "outputs": [
    {
     "name": "stdout",
     "output_type": "stream",
     "text": [
      "Enter the string\tkolar is a golden city\n",
      "is\n",
      "golden\n",
      "city\n"
     ]
    }
   ],
   "source": [
    "#Python program to print even length words in a string\n",
    "def evenLen(string):\n",
    "    s=string.split(' ')\n",
    "    for word in s:\n",
    "        if len(word)%2==0:\n",
    "            print(word)\n",
    "string=input(\"Enter the string\\t\")\n",
    "evenLen(string)"
   ]
  },
  {
   "cell_type": "code",
   "execution_count": 12,
   "id": "679fe8cd",
   "metadata": {},
   "outputs": [
    {
     "name": "stdout",
     "output_type": "stream",
     "text": [
      "Enter the string\tasde\n",
      "Not accepted\n"
     ]
    }
   ],
   "source": [
    "#Python program to accept the strings which contains all vowels\n",
    "def vowel(string):\n",
    "    string=string.lower()\n",
    "    vowel=set(\"aeiou\")\n",
    "    s=set({})\n",
    "    for char in string:\n",
    "        if char in vowel:\n",
    "            s.add(char)\n",
    "        else:\n",
    "            pass\n",
    "    if len(s)==len(vowel):\n",
    "        print(\"Accepted\")\n",
    "    else:\n",
    "        print(\"Not accepted\")\n",
    "string=input(\"Enter the string\\t\")\n",
    "vowel(string)"
   ]
  },
  {
   "cell_type": "code",
   "execution_count": 17,
   "id": "d3cf2b42",
   "metadata": {},
   "outputs": [
    {
     "name": "stdout",
     "output_type": "stream",
     "text": [
      "Enter string-1\tkolar\n",
      "Enter string-2\tgowda\n",
      "Number of matchings char's are: 2\n"
     ]
    }
   ],
   "source": [
    "#Python | Count the Number of matching characters in a pair of string\n",
    "def count1(str1,str2):\n",
    "    c,j=0,0\n",
    "    for i in str1:\n",
    "        if str2.find(i)>=0 and j==str1.find(i):\n",
    "            c+=1\n",
    "        j+=1\n",
    "    print(\"Number of matchings char's are:\",c)\n",
    "\n",
    "str1=input(\"Enter string-1\\t\")\n",
    "str2=input(\"Enter string-2\\t\")\n",
    "count1(str1,str2)"
   ]
  },
  {
   "cell_type": "code",
   "execution_count": 13,
   "id": "f051ce5d",
   "metadata": {},
   "outputs": [
    {
     "name": "stdout",
     "output_type": "stream",
     "text": [
      "No. of matching char are:4\n"
     ]
    }
   ],
   "source": [
    "def count(str1,str2):\n",
    "    str_1=set(str1)\n",
    "    str_2=set(str2)\n",
    "    matched=str_1 & str_2\n",
    "    print(\"No. of matching char are:\"+str(len(matched)))\n",
    "str1=\"absdcf\"\n",
    "str2=\"absedg\"\n",
    "count(str1,str2)"
   ]
  },
  {
   "cell_type": "code",
   "execution_count": 21,
   "id": "b8123d35",
   "metadata": {},
   "outputs": [
    {
     "name": "stdout",
     "output_type": "stream",
     "text": [
      "KolarGowda\n",
      "without order dGlKorwa\n",
      "without order KolarGwd\n"
     ]
    }
   ],
   "source": [
    "#Remove all duplicates from a given string in Python\n",
    "from collections import OrderedDict \n",
    "def removedupWo(string):\n",
    "    return \"\".join(set(string))\n",
    "def removedupo(string):\n",
    "    return \"\".join(OrderedDict.fromkeys(string))\n",
    "string=input()\n",
    "print(\"without order\",removedupWo(string))\n",
    "print(\"without order\",removedupo(string))"
   ]
  },
  {
   "cell_type": "code",
   "execution_count": 25,
   "id": "07e0266b",
   "metadata": {},
   "outputs": [
    {
     "name": "stdout",
     "output_type": "stream",
     "text": [
      "gowda\n",
      "The string is gowda\n",
      "the minimum of all char in string is\tg\n"
     ]
    }
   ],
   "source": [
    "#Python – Least Frequent Character in String\n",
    "string=input()\n",
    "print(\"The string is\",string)\n",
    "freq={}\n",
    "for i in string:\n",
    "    if i in freq:\n",
    "        freq[i]+=1\n",
    "    else:\n",
    "        freq[i]=1\n",
    "res=min(freq,key=freq.get)\n",
    "print(\"the minimum of all char in string is\\t\"+str(res))\n",
    "             "
   ]
  },
  {
   "cell_type": "code",
   "execution_count": 27,
   "id": "9045d703",
   "metadata": {},
   "outputs": [
    {
     "name": "stdout",
     "output_type": "stream",
     "text": [
      "gowda\n",
      "The string is gowda\n",
      "the minimum of all char in string is\tg\n"
     ]
    }
   ],
   "source": [
    "#Python – max Frequent Character in String\n",
    "string=input()\n",
    "print(\"The string is\",string)\n",
    "freq={}\n",
    "for i in string:\n",
    "    if i in freq:\n",
    "        freq[i]+=1\n",
    "    else:\n",
    "        freq[i]=1\n",
    "res=max(freq,key=freq.get)\n",
    "print(\"the minimum of all char in string is\\t\"+str(res))"
   ]
  },
  {
   "cell_type": "code",
   "execution_count": 35,
   "id": "7b6d6d7b",
   "metadata": {},
   "outputs": [
    {
     "name": "stdout",
     "output_type": "stream",
     "text": [
      "Kolar@1218\n",
      "Yes, string contains special Char\n"
     ]
    }
   ],
   "source": [
    "#Program to check if a string contains any special character\n",
    "import re\n",
    "def spec(string):\n",
    "    spChar=re.compile('[!@#$%&*{}]')\n",
    "    if (spChar.search(string)==None):\n",
    "        print(\"No!Special Chars found\")\n",
    "    else:\n",
    "        print(\"Yes, string contains special Char\")\n",
    "string=input()\n",
    "spec(string)"
   ]
  },
  {
   "cell_type": "code",
   "execution_count": 46,
   "id": "263e1d15",
   "metadata": {},
   "outputs": [
    {
     "name": "stdout",
     "output_type": "stream",
     "text": [
      "nM:1C\n",
      "CKfx7\n",
      "PYfe.\n",
      "hI8OD\n",
      "p1al3\n",
      "nxWnD\n",
      "eBLPp\n",
      "IFXXm\n",
      "?GS!.\n",
      "7tP8v\n",
      "FZUyp\n",
      "nhU6n\n",
      "ogA2l\n",
      "wLZD7\n",
      "x?1tX\n",
      "b!GS4\n",
      "CK54v\n",
      ";zjjv\n",
      "kf1tU\n",
      "RDQxJ\n",
      "jRoR4\n",
      "FALXT\n",
      "pUiWX\n",
      "sBA2T\n",
      "C5Fsi\n",
      "IO4Jv\n",
      "!FnNG\n",
      "rddeJ\n",
      "YogR5\n",
      "kouOD\n",
      "7oiLS\n",
      "Ooaki\n",
      "hoJ3j\n",
      "so:Lz\n",
      "nocw8\n",
      "iop2:\n",
      "eo??4\n",
      "Zor?;\n",
      "go,86\n",
      "gotku\n",
      "goXSd\n",
      "go,PN\n",
      "gocxe\n",
      "goJvG\n",
      "gosZ9\n",
      "golx2\n",
      "goC,p\n",
      "goMvU\n",
      "gobWb\n",
      "goT!v\n",
      "goD!F\n",
      "gou4q\n",
      "go:Tc\n",
      "go8!Q\n",
      "goO;5\n",
      "golg7\n",
      "goTd3\n",
      "gogdu\n",
      "goNd?\n",
      "gordZ\n",
      "goJdD\n",
      "goZdS\n",
      "gojdH\n",
      "goado\n",
      "goxd5\n",
      "goEdc\n",
      "go3dc\n",
      "goHd6\n",
      "gojdd\n",
      "goxdy\n",
      "gomdm\n",
      "go7dg\n",
      "go,dX\n",
      "goqd,\n",
      "goCdM\n",
      "goCdN\n",
      "goyd1\n",
      "goZdV\n",
      "gowde\n",
      "gowdt\n",
      "gowdt\n",
      "gowdU\n",
      "gowdM\n",
      "gowd,\n",
      "gowdE\n",
      "gowdh\n",
      "gowde\n",
      "gowd4\n",
      "gowdf\n",
      "gowdD\n",
      "gowdh\n",
      "gowdw\n",
      "gowdq\n",
      "gowda\n",
      "Target matched 94iteration\n"
     ]
    }
   ],
   "source": [
    "import string\n",
    "import random\n",
    "import time\n",
    "possibleChar=string.ascii_lowercase+string.digits+string.ascii_uppercase+'.,!?:;'\n",
    "t=\"gowda\"\n",
    "attemptThis=''.join(random.choice(possibleChar) for i in range(len(t)))\n",
    "completed=False\n",
    "iteration=0\n",
    "attemptNext=''\n",
    "while completed==False:\n",
    "    print(attemptThis)\n",
    "    attemptNext=''\n",
    "    completed=True\n",
    "    for i in range(len(t)):\n",
    "        if attemptThis[i]!=t[i]:\n",
    "            completed=False\n",
    "            attemptNext+=random.choice(possibleChar)\n",
    "        else:\n",
    "            attemptNext+=t[i]\n",
    "    iteration+=1\n",
    "    attemptThis=attemptNext\n",
    "    time.sleep(0.1)\n",
    "print(\"Target matched \" + str(iteration) +  \"iteration\")\n"
   ]
  },
  {
   "cell_type": "code",
   "execution_count": null,
   "id": "1a60b37c",
   "metadata": {},
   "outputs": [],
   "source": [
    "#Find words which are greater than given length k\n",
    "def str1(k,str):\n",
    "    string=[]\n",
    "    text=str.split(\" \")\n",
    "    for x in text:\n",
    "        if len(x)>k:\n",
    "            string.append(x)\n",
    "    return str\n",
    "k=4\n",
    "string=\"Kolar byre gowda\"\n",
    "str1(k,str)"
   ]
  },
  {
   "cell_type": "markdown",
   "id": "5a586c34",
   "metadata": {},
   "source": [
    "# def string_k(k, str):\n",
    "     \n",
    "    # create the empty string\n",
    "    string = []\n",
    "     \n",
    "    # split the string where space is comes\n",
    "    text = str.split(\" \")\n",
    "     \n",
    "    # iterate the loop till every substring\n",
    "    for x in text:\n",
    "         \n",
    "        # if length of current sub string\n",
    "        # is greater than k then\n",
    "        if len(x) > k:\n",
    "             \n",
    "            # append this sub string in\n",
    "            # string list\n",
    "            string.append(x)\n",
    "             \n",
    "     # return string list\n",
    "    return string\n",
    " \n",
    " \n",
    "# Driver Program    \n",
    "k = 3\n",
    "str =\"geek for geeks\"\n",
    "print(string_k(k, str))"
   ]
  },
  {
   "cell_type": "code",
   "execution_count": 8,
   "id": "a32c3005",
   "metadata": {},
   "outputs": [
    {
     "data": {
      "text/plain": [
       "'abcdeghi'"
      ]
     },
     "execution_count": 8,
     "metadata": {},
     "output_type": "execute_result"
    }
   ],
   "source": [
    "#Python program for removing i-th character from a string\n",
    "def strRem(string,i):\n",
    "    a=string[:i]\n",
    "    b=string[i+1:]\n",
    "    return a+b\n",
    "string=\"abcdefghi\"\n",
    "i=5\n",
    "strRem(string,i)"
   ]
  },
  {
   "cell_type": "code",
   "execution_count": 13,
   "id": "cdcc60b8",
   "metadata": {},
   "outputs": [
    {
     "name": "stdout",
     "output_type": "stream",
     "text": [
      "['Kolar', 'byre', 'gowda']\n",
      "Kolar-byre-gowda\n"
     ]
    }
   ],
   "source": [
    "#Python program to split and join a string\n",
    "def splitStr(string):\n",
    "    newStr=string.split(\" \")\n",
    "    return newStr\n",
    "def joinStr(string):\n",
    "    join1=\"-\".join(newStr)\n",
    "    return join1\n",
    "string=\"Kolar byre gowda\"\n",
    "newStr=splitStr(string)\n",
    "print(newStr)\n",
    "join1=joinStr(string)\n",
    "print(join1)"
   ]
  },
  {
   "cell_type": "code",
   "execution_count": 17,
   "id": "fbd7c48d",
   "metadata": {},
   "outputs": [
    {
     "name": "stdout",
     "output_type": "stream",
     "text": [
      "14141\\\n",
      "Not a binary string\n"
     ]
    }
   ],
   "source": [
    "#Python | Check if a given string is binary string or not\n",
    "def binChk(string):\n",
    "    c=set(string)\n",
    "    s={'0','1'}\n",
    "    if s==c or c=={'0'} or c=={'1'}:\n",
    "        print(\"It's a Binary string\")\n",
    "    else:\n",
    "        print(\"Not a binary string\")\n",
    "string=input()\n",
    "binChk(string)"
   ]
  },
  {
   "cell_type": "code",
   "execution_count": 24,
   "id": "393ba7f7",
   "metadata": {},
   "outputs": [
    {
     "name": "stdout",
     "output_type": "stream",
     "text": [
      "Enter string-1\tfrom kolar\n",
      "Enter string-2\tgowda from kolar\n",
      "['gowda']\n"
     ]
    }
   ],
   "source": [
    "#Python program to find uncommon words from two Strings\n",
    "def uncom(a,b):\n",
    "    count={}\n",
    "    for word in a.split():\n",
    "        count[word]=count.get(word,0)+1\n",
    "    for word in b.split():\n",
    "        count[word]=count.get(word,0)+1\n",
    "    return [word for word in count if count[word]==1]\n",
    "a=input(\"Enter string-1\\t\")\n",
    "b=input(\"Enter string-2\\t\")\n",
    "\n",
    "print(uncom(a,b))"
   ]
  },
  {
   "cell_type": "code",
   "execution_count": 71,
   "id": "33258478",
   "metadata": {},
   "outputs": [
    {
     "name": "stdout",
     "output_type": "stream",
     "text": [
      "Original string is:\n",
      " kolar is a golden city. kolar holds six taluks. holds top milk & silk production city\n",
      "The string after replacing:\n",
      " kolar is a golden city. It holds six taluks. Karnataka's top milk & silk production city\n"
     ]
    }
   ],
   "source": [
    "#Python – Replace duplicate Occurrence in String\n",
    "test_string='kolar is a golden city. kolar holds six taluks. holds top milk & silk production city'\n",
    "print(\"Original string is:\\n\",test_string)\n",
    "rep_dict={'holds':'Karnataka\\'s','kolar':'It'}\n",
    "test_list=test_string.split(' ')\n",
    "#print(test_list)\n",
    "res=set()\n",
    "for ind,ele in enumerate(test_list):\n",
    "    if ele in rep_dict:\n",
    "        if ele in res:\n",
    "            test_list[ind]=rep_dict[ele]\n",
    "        else:\n",
    "            res.add(ele)\n",
    "res=' '.join(test_list)\n",
    "print(\"The string after replacing:\\n\",res)"
   ]
  },
  {
   "cell_type": "code",
   "execution_count": 83,
   "id": "98dae65e",
   "metadata": {},
   "outputs": [
    {
     "name": "stdout",
     "output_type": "stream",
     "text": [
      "Original string is:\n",
      " C++ is a pure object oriented programming language, contains lot of keywords\n",
      "String after replacement:\n",
      " C++ is a C++ object oriented programming language, contains C++ of keywords\n"
     ]
    }
   ],
   "source": [
    "#Python – Replace multiple words with K \n",
    "string1='C++ is a pure object oriented programming language, contains lot of keywords'\n",
    "print(\"Original string is:\\n\",string1)\n",
    "words=['pure','language','lot']\n",
    "replace='C++'\n",
    "res=' '.join([replace if ind in words else ind for ind in string1.split()])\n",
    "print(\"String after replacement:\\n\",res)"
   ]
  },
  {
   "cell_type": "code",
   "execution_count": 96,
   "id": "57913646",
   "metadata": {},
   "outputs": [
    {
     "name": "stdout",
     "output_type": "stream",
     "text": [
      "Enter the string:\tasd\n",
      "a s d\n",
      "a d s\n",
      "s a d\n",
      "s d a\n",
      "d a s\n",
      "d s a\n"
     ]
    }
   ],
   "source": [
    "#Python | Permutation of a given string using inbuilt function\n",
    "from itertools import permutations\n",
    "def permut(string):\n",
    "    perList=permutations(string)\n",
    "    for i in list(perList):\n",
    "        print(' '.join(i))\n",
    "string=input(\"Enter the string:\\t\")\n",
    "permut(string)\n",
    "    "
   ]
  },
  {
   "cell_type": "code",
   "execution_count": 110,
   "id": "c3d959b1",
   "metadata": {},
   "outputs": [],
   "source": [
    "#Python | Check for URL in a String\n",
    "def execute():\n",
    "    LOC=\"\"\"\n",
    "def summa(a,b):\n",
    "    addi=a+b\n",
    "    return addi\n",
    "a=2\n",
    "b=2\n",
    "summa(a,b)\n",
    "\"\"\"\n",
    "    exec(LOC)\n",
    "execute()"
   ]
  },
  {
   "cell_type": "code",
   "execution_count": 114,
   "id": "ff392bf5",
   "metadata": {},
   "outputs": [
    {
     "name": "stdout",
     "output_type": "stream",
     "text": [
      "5040\n"
     ]
    }
   ],
   "source": [
    "def exec_code():\n",
    "    LOC = \"\"\"\n",
    "def factorial(num):\n",
    "    fact=1\n",
    "    for i in range(1,num+1):\n",
    "        fact = fact*i\n",
    "    return fact\n",
    "print(factorial(7))\n",
    "\"\"\"\n",
    "    exec(LOC)\n",
    "     \n",
    "# Driver Code\n",
    "exec_code()"
   ]
  },
  {
   "cell_type": "code",
   "execution_count": 120,
   "id": "664cde2e",
   "metadata": {},
   "outputs": [
    {
     "name": "stdout",
     "output_type": "stream",
     "text": [
      "Enter the string\tKolar\n",
      "Enter the length\t2\n",
      "Left rotation\t larKo\n",
      "right rotation\t arKol\n"
     ]
    }
   ],
   "source": [
    "def rotate(string,l):\n",
    "    lfirst=string[0:l]\n",
    "    lsecond=string[l:]\n",
    "    rfirst=string[0:len(string)-l]\n",
    "    rsecond=string[len(string)-l:]\n",
    "    print(\"Left rotation\\t\",(lsecond+lfirst))\n",
    "    print(\"right rotation\\t\",(rsecond+rfirst))\n",
    "string=input(\"Enter the string\\t\")\n",
    "l=int(input(\"Enter the length\\t\"))\n",
    "rotate(string,l)"
   ]
  },
  {
   "cell_type": "code",
   "execution_count": 135,
   "id": "41993a5d",
   "metadata": {},
   "outputs": [
    {
     "name": "stdout",
     "output_type": "stream",
     "text": [
      "The original string is :  geeksforgeeks\n",
      "The string after swap :  accdsforaccds\n"
     ]
    }
   ],
   "source": [
    "#Python – Replace all occurrences of a substring in a string\n",
    "string = \"geeksforgeeks\"\n",
    "print(\"The original string is : \",string)\n",
    "temp=str.maketrans(\"geek\", \"abcd\")\n",
    "string=string.translate(temp)\n",
    "print(\"The string after swap : \",string)\n"
   ]
  },
  {
   "cell_type": "code",
   "execution_count": null,
   "id": "c05a8725",
   "metadata": {},
   "outputs": [],
   "source": []
  }
 ],
 "metadata": {
  "kernelspec": {
   "display_name": "Python 3 (ipykernel)",
   "language": "python",
   "name": "python3"
  },
  "language_info": {
   "codemirror_mode": {
    "name": "ipython",
    "version": 3
   },
   "file_extension": ".py",
   "mimetype": "text/x-python",
   "name": "python",
   "nbconvert_exporter": "python",
   "pygments_lexer": "ipython3",
   "version": "3.9.7"
  }
 },
 "nbformat": 4,
 "nbformat_minor": 5
}

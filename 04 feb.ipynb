{
 "cells": [
  {
   "cell_type": "code",
   "execution_count": 12,
   "id": "c960c734",
   "metadata": {},
   "outputs": [
    {
     "name": "stdout",
     "output_type": "stream",
     "text": [
      "Enter String\n",
      "asdfgg\n",
      "f\n"
     ]
    }
   ],
   "source": [
    "\"\"\"\"Task1:\n",
    "\n",
    "Get one string from user\n",
    "identify the middle character of the string\"\"\"\n",
    "\n",
    "string=input(\"Enter String\\n\")\n",
    "strLen=len(string)\n",
    "midStr=strLen//2\n",
    "print(string[midStr])"
   ]
  },
  {
   "cell_type": "code",
   "execution_count": 1,
   "id": "067ec523",
   "metadata": {},
   "outputs": [
    {
     "name": "stdout",
     "output_type": "stream",
     "text": [
      "Enter the String to find mid Char\n",
      "engineer\n",
      "in\n"
     ]
    }
   ],
   "source": [
    "\"\"\"\"Task1:\n",
    "\n",
    "Get one string from user\n",
    "identify the middle character of the string\"\"\"\n",
    "string=input(\"Enter the String to find mid Char\\n\")\n",
    "midStr=string[(len(string)-1)//2:(len(string)+2)//2]\n",
    "print(midStr)\n",
    "               "
   ]
  },
  {
   "cell_type": "code",
   "execution_count": 13,
   "id": "1f2b090f",
   "metadata": {},
   "outputs": [
    {
     "name": "stdout",
     "output_type": "stream",
     "text": [
      "Kolar\n",
      "Kolar******\n",
      "************Kolar\n"
     ]
    }
   ],
   "source": [
    "\"\"\"\"Task2:\n",
    "string1: ***python***\n",
    "string1: **python********\n",
    "string: ********java*******\n",
    "output: python  (strip,rstrip,lstrip method *)\"\"\"\n",
    "\n",
    "string1=\"****Kolar****\"\n",
    "string2=\"**Kolar******\"\n",
    "string3=\"************Kolar########\"\n",
    "print(string1.strip(\"*\"))\n",
    "print(string2.lstrip(\"*\"))\n",
    "print(string3.rstrip(\"#\"))"
   ]
  },
  {
   "cell_type": "code",
   "execution_count": 47,
   "id": "cd508f21",
   "metadata": {},
   "outputs": [
    {
     "name": "stdout",
     "output_type": "stream",
     "text": [
      "Enter Sub1 and marks(Sub<space>Marks\n",
      "assd 20.20\n",
      "Enter Sub2 and marks(Sub<space>Marks\n",
      "maths 20.20\n",
      "Enter Sub3 and marks(Sub<space>Marks\n",
      "science 20.20\n",
      "60.599999999999994\n"
     ]
    }
   ],
   "source": [
    "\"\"\"\"Task3: (name<space>float)\n",
    "\n",
    "collect three strings from user  name<space>float\n",
    "\n",
    "string1: \"ravi 10.30\"  \n",
    "string2: \"meghala 12.19\"\n",
    "string3: \"Gokul 20.20\"\n",
    "\n",
    "split + indexing\n",
    "\n",
    "10.30 + 12.19 + 20.20 ===> output ===> add it 42.69\"\"\"\n",
    "\n",
    "string1=input(\"Enter Sub1 and marks(Sub<space>Marks\\n\")\n",
    "string2=input(\"Enter Sub2 and marks(Sub<space>Marks\\n\")\n",
    "string3=input(\"Enter Sub3 and marks(Sub<space>Marks\\n\")\n",
    "\n",
    "s1=string1.split()\n",
    "s2=string2.split()\n",
    "s3=string3.split()\n",
    "\n",
    "val1=s1[1]\n",
    "val2=s2[1]\n",
    "val3=s3[1]\n",
    "\n",
    "marks1=float(val1)\n",
    "marks2=float(val2)\n",
    "marks3=float(val3)\n",
    "total=marks1+marks2+marks3\n",
    "print(total)\n"
   ]
  },
  {
   "cell_type": "code",
   "execution_count": 34,
   "id": "3e2ecf1c",
   "metadata": {},
   "outputs": [
    {
     "name": "stdout",
     "output_type": "stream",
     "text": [
      "['gowda 10.20']\n",
      "['Kolar 20.1']\n",
      "9\n",
      "6\n",
      "10.2 10.2\n"
     ]
    },
    {
     "data": {
      "text/plain": [
       "20.4"
      ]
     },
     "execution_count": 34,
     "metadata": {},
     "output_type": "execute_result"
    }
   ],
   "source": [
    "string=\"gowda 10.20\"\n",
    "string1=\"Kolar 20.1\"\n",
    "print(string.split(\",\"))\n",
    "print(string1.split(\",\"))\n",
    "print(string.index(\"2\"))\n",
    "print(string1.index(\"2\"))\n",
    "string4=float(string[6:10])\n",
    "string5=float(string[6:10])\n",
    "print(string4, string5)\n",
    "string6=string4+string5\n",
    "string6\n",
    "\n"
   ]
  },
  {
   "cell_type": "code",
   "execution_count": 15,
   "id": "389ea875",
   "metadata": {},
   "outputs": [
    {
     "name": "stdout",
     "output_type": "stream",
     "text": [
      "Enter String1\n",
      "python\n",
      "Enter String2\n",
      "java\n",
      "python java\n"
     ]
    },
    {
     "data": {
      "text/plain": [
       "'jythonpava64hv'"
      ]
     },
     "execution_count": 15,
     "metadata": {},
     "output_type": "execute_result"
    }
   ],
   "source": [
    "\"\"\"\"Task4:\n",
    "\n",
    "#collect two strings from user\n",
    "\n",
    "string1: python\n",
    "String2: java\n",
    "\n",
    "output ===> jythonpava64hv\n",
    "\n",
    "string1: maths\n",
    "string2: science\n",
    "\n",
    "output ===> sathsmcience57te\"\"\"\n",
    "\n",
    "string1=input(\"Enter String1\\n\")\n",
    "string2=input(\"Enter String2\\n\")\n",
    "print(string1, string2)\n",
    "\n",
    "a=string1.replace(string1[0],\"j\")\n",
    "b=string2.replace(string2[0],\"p\")\n",
    "\n",
    "l1=len(string1)\n",
    "l2=len(string2)\n",
    "midStr1=l1//2\n",
    "midStr2=l2//2\n",
    "\n",
    "#print(string1[midStr1],string2[midStr2])\n",
    "outStr=a+b+str(l1)+str(l2)+string1[midStr1]+string2[midStr2]\n",
    "outStr"
   ]
  },
  {
   "cell_type": "code",
   "execution_count": null,
   "id": "438ec59d",
   "metadata": {},
   "outputs": [],
   "source": [
    "\"\"\"\"Task5:\n",
    "\n",
    "Collect two strings from user\n",
    "\n",
    "string1: wikipedia\n",
    "string2: typescript\n",
    "\n",
    "output: p  +  c   ===> ascii value of p + ascii value of c  ====>  198\n",
    "(ord , chr)\"\"\""
   ]
  },
  {
   "cell_type": "code",
   "execution_count": 23,
   "id": "55012408",
   "metadata": {},
   "outputs": [
    {
     "name": "stdout",
     "output_type": "stream",
     "text": [
      "Enter string 1:\n",
      "wikipedia\n",
      "Enyter string 2:\n",
      "typescript\n",
      "p c\n"
     ]
    },
    {
     "data": {
      "text/plain": [
       "211"
      ]
     },
     "execution_count": 23,
     "metadata": {},
     "output_type": "execute_result"
    }
   ],
   "source": [
    "string1=input(\"Enter string 1:\\n\")\n",
    "string2=input(\"Enyter string 2:\\n\")\n",
    "midStr1=len(string1)//2\n",
    "midStr2=len(string2)//2\n",
    "outStr1=string1[midStr1]\n",
    "outStr2=string2[midStr2]\n",
    "print(outStr1,outStr2)\n",
    "s1=ord(outStr1)\n",
    "s2=ord(outStr2)\n",
    "output=s1+s2\n",
    "output"
   ]
  },
  {
   "cell_type": "code",
   "execution_count": null,
   "id": "46992af6",
   "metadata": {},
   "outputs": [],
   "source": [
    "\"\"\"\"Task6:\n",
    "\n",
    "collect one string from user:\n",
    "\n",
    "string: computer\n",
    "output: c6r\n",
    "\n",
    "string: mathematics\n",
    "output: m9s\"\"\""
   ]
  },
  {
   "cell_type": "code",
   "execution_count": 31,
   "id": "22ed6494",
   "metadata": {},
   "outputs": [
    {
     "name": "stdout",
     "output_type": "stream",
     "text": [
      "Enter String:\n",
      "mathematics\n"
     ]
    },
    {
     "data": {
      "text/plain": [
       "'m9s'"
      ]
     },
     "execution_count": 31,
     "metadata": {},
     "output_type": "execute_result"
    }
   ],
   "source": [
    "string=input(\"Enter String:\\n\")\n",
    "s=string[0]\n",
    "e=string[-1]\n",
    "strlen=string[1:-1]\n",
    "strl=str(len(strlen))\n",
    "output=s+strl+e\n",
    "output"
   ]
  },
  {
   "cell_type": "code",
   "execution_count": 2,
   "id": "82d2c7a7",
   "metadata": {},
   "outputs": [
    {
     "name": "stdout",
     "output_type": "stream",
     "text": [
      "Hello, World\n"
     ]
    }
   ],
   "source": [
    "#task 7\n",
    "my_string=\"Hello, World\"\n",
    "print(my_string)"
   ]
  },
  {
   "cell_type": "code",
   "execution_count": 5,
   "id": "3ac9ce0e",
   "metadata": {},
   "outputs": [
    {
     "data": {
      "text/plain": [
       "'Welcome To Python'"
      ]
     },
     "execution_count": 5,
     "metadata": {},
     "output_type": "execute_result"
    }
   ],
   "source": [
    "#task 8\n",
    "string=\"wELCOME tO pYTHON\"\n",
    "swapStr=string.swapcase()\n",
    "swapStr"
   ]
  },
  {
   "cell_type": "code",
   "execution_count": 11,
   "id": "21d02af0",
   "metadata": {},
   "outputs": [
    {
     "name": "stdout",
     "output_type": "stream",
     "text": [
      "Byre\n",
      "Gowda\n",
      "Hello Byre Gowda!\n"
     ]
    }
   ],
   "source": [
    "#task 9\n",
    "fname=input()\n",
    "lname=input()\n",
    "print(\"Hello {0} {1}!\".format(fname,lname))\n"
   ]
  },
  {
   "cell_type": "code",
   "execution_count": 33,
   "id": "54d9e753",
   "metadata": {},
   "outputs": [
    {
     "name": "stdout",
     "output_type": "stream",
     "text": [
      "Hello Ross Taylor ! You just delved into python.\n"
     ]
    }
   ],
   "source": [
    "def print_full_name(first,last):\n",
    "    print(\"Hello\",first +\" \"+last,\"! You just delved into python.\" )\n",
    "print_full_name(\"Ross\",\"Taylor\",)"
   ]
  },
  {
   "cell_type": "code",
   "execution_count": 56,
   "id": "2b7b8dd8",
   "metadata": {},
   "outputs": [
    {
     "data": {
      "text/plain": [
       "'abcdefg'"
      ]
     },
     "execution_count": 56,
     "metadata": {},
     "output_type": "execute_result"
    }
   ],
   "source": [
    "#task 10\n",
    "string=\"abcsefg\"\n",
    "l=list(string)\n",
    "l[3]=\"d\"\n",
    "string=\"\".join(l)\n",
    "string"
   ]
  },
  {
   "cell_type": "code",
   "execution_count": 57,
   "id": "792bac68",
   "metadata": {},
   "outputs": [
    {
     "name": "stdout",
     "output_type": "stream",
     "text": [
      "Enter the string\tBangalorw\n",
      "Enter the Char to update\tw\n",
      "Index Num of Char is 8\n",
      "Enter the Index num to update\t8\n",
      "Enter New char to update\te\n"
     ]
    },
    {
     "data": {
      "text/plain": [
       "'Bangalore'"
      ]
     },
     "execution_count": 57,
     "metadata": {},
     "output_type": "execute_result"
    }
   ],
   "source": [
    "string=input(\"Enter the string\\t\")\n",
    "strList=list(string)\n",
    "strInd=strList.index(input(\"Enter the Char to update\\t\"))\n",
    "print(\"Index Num of Char is\",strInd)\n",
    "changeChar=int(input(\"Enter the Index num to update\\t\"))\n",
    "strList[changeChar]=input(\"Enter New char to update\\t\")\n",
    "output=str(strList)\n",
    "string=\"\".join(strList)\n",
    "string"
   ]
  },
  {
   "cell_type": "code",
   "execution_count": 66,
   "id": "de53069d",
   "metadata": {},
   "outputs": [
    {
     "name": "stdout",
     "output_type": "stream",
     "text": [
      "Enter the string\tswer\n",
      "Enter the char to update\tr\n",
      "The Character is 'r' and index Num is 0\n",
      "Enter the Index num to update\t3\n",
      "Enter new char to update\tg\n"
     ]
    },
    {
     "data": {
      "text/plain": [
       "'sweg'"
      ]
     },
     "execution_count": 66,
     "metadata": {},
     "output_type": "execute_result"
    }
   ],
   "source": [
    "string=input(\"Enter the string\\t\")\n",
    "strList=list(string)\n",
    "strCh=input(\"Enter the char to update\\t\")\n",
    "strInd=strCh.index(strCh)\n",
    "findInd=strInd\n",
    "print(f\"The Character is '{strCh}' and index Num is {findInd}\")\n",
    "changeChar=int(input(\"Enter the Index num to update\\t\"))\n",
    "strList[changeChar]=input(\"Enter new char to update\\t\")\n",
    "output=str(strList)\n",
    "string=\"\".join(strList)\n",
    "string"
   ]
  },
  {
   "cell_type": "code",
   "execution_count": 67,
   "id": "895ef6c4",
   "metadata": {},
   "outputs": [
    {
     "name": "stdout",
     "output_type": "stream",
     "text": [
      "a=10\n",
      "b=15\n",
      "25\n",
      "-5\n",
      "150\n"
     ]
    }
   ],
   "source": [
    "#task 11\n",
    "a=int(input(\"a=\"))\n",
    "b=int(input(\"b=\"))\n",
    "\n",
    "add=a+b\n",
    "diff=a-b\n",
    "prod=a*b\n",
    "print(add)\n",
    "print(diff)\n",
    "print(prod)\n"
   ]
  },
  {
   "cell_type": "code",
   "execution_count": 68,
   "id": "30d68f55",
   "metadata": {},
   "outputs": [
    {
     "name": "stdout",
     "output_type": "stream",
     "text": [
      "a=10\n",
      "b=15\n",
      "0\n",
      "0.6666666666666666\n"
     ]
    }
   ],
   "source": [
    "#task12\n",
    "a=int(input(\"a=\"))\n",
    "b=int(input(\"b=\"))\n",
    "intDiv=a//b\n",
    "floatDiv=a/b\n",
    "print(intDiv)\n",
    "print(floatDiv)"
   ]
  }
 ],
 "metadata": {
  "kernelspec": {
   "display_name": "Python 3 (ipykernel)",
   "language": "python",
   "name": "python3"
  },
  "language_info": {
   "codemirror_mode": {
    "name": "ipython",
    "version": 3
   },
   "file_extension": ".py",
   "mimetype": "text/x-python",
   "name": "python",
   "nbconvert_exporter": "python",
   "pygments_lexer": "ipython3",
   "version": "3.9.7"
  }
 },
 "nbformat": 4,
 "nbformat_minor": 5
}

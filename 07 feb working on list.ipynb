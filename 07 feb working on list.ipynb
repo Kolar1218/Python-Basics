{
 "cells": [
  {
   "cell_type": "code",
   "execution_count": 27,
   "id": "46b6e928",
   "metadata": {},
   "outputs": [
    {
     "name": "stdout",
     "output_type": "stream",
     "text": [
      "List without elements: []\n",
      "List with elements: [5, 6, 7, 8]\n",
      "After concatination empty list is: [5, 6, 7, 8]\n",
      "After adding elements to the list: [5, 6, 7, 8, 8, 9, 1, 5, 6, 7, 8, 1]\n",
      "Frequency of the given value is 3\n",
      "Mean of the list is: 5.916666666666667\n",
      "sum of list is: 71\n",
      "Minimum element in the list is: 1\n",
      "Maximum element in the list is: 9\n",
      "Median of list is: [9, 1]\n",
      "After removing duplicate values: [5, 6, 7, 8, 9, 1]\n",
      "Printing output in Tuple format (5, 6, 7, 8, 9, 1)\n"
     ]
    }
   ],
   "source": [
    "list1=[]\n",
    "print(\"List without elements:\",list1)\n",
    "list2=[5,6,7,8]\n",
    "print(\"List with elements:\",list2)\n",
    "list1.extend(list2)\n",
    "print(\"After concatination empty list is:\",list1)\n",
    "list1[5:]=[8,9,1,5,6,7,8,1]\n",
    "print(\"After adding elements to the list:\",list1)\n",
    "fre=list1.count(8)\n",
    "print(\"Frequency of the given value is\",fre)\n",
    "mean=sum(list1)/len(list1)\n",
    "print(\"Mean of the list is:\",mean)\n",
    "print(\"sum of list is:\",sum(list1))\n",
    "print(\"Minimum element in the list is:\",min(list1))\n",
    "print(\"Maximum element in the list is:\",max(list1))\n",
    "median=list1[(len(list1)-1)//2:(len(list1)+2)//2]\n",
    "print(\"Median of list is:\",median)\n",
    "list1 = list(dict.fromkeys(list1))\n",
    "print(\"After removing duplicate values:\",list1)\n",
    "print(\"Printing output in Tuple format\",tuple(list1))\n",
    "\n",
    "\n",
    "\n",
    "\n"
   ]
  }
 ],
 "metadata": {
  "kernelspec": {
   "display_name": "Python 3 (ipykernel)",
   "language": "python",
   "name": "python3"
  },
  "language_info": {
   "codemirror_mode": {
    "name": "ipython",
    "version": 3
   },
   "file_extension": ".py",
   "mimetype": "text/x-python",
   "name": "python",
   "nbconvert_exporter": "python",
   "pygments_lexer": "ipython3",
   "version": "3.9.7"
  }
 },
 "nbformat": 4,
 "nbformat_minor": 5
}

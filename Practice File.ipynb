{
 "cells": [
  {
   "cell_type": "code",
   "execution_count": 2,
   "id": "2a763299",
   "metadata": {},
   "outputs": [
    {
     "name": "stdout",
     "output_type": "stream",
     "text": [
      "The average of the marks is 81.2\n"
     ]
    }
   ],
   "source": [
    "def studMarks(marks):\n",
    "    sum_marks=sum(marks)\n",
    "    total_sub=len(marks)\n",
    "    average=sum_marks/total_sub\n",
    "    return average\n",
    "marks=[80,95,88,75,68]\n",
    "average=studMarks(marks)\n",
    "print(\"The average of the marks is\",average)\n",
    "    \n",
    "    "
   ]
  },
  {
   "cell_type": "code",
   "execution_count": 13,
   "id": "23fc53c1",
   "metadata": {},
   "outputs": [
    {
     "name": "stdout",
     "output_type": "stream",
     "text": [
      "The average of the marks is 81.2\n",
      "Grade of marks is B\n"
     ]
    }
   ],
   "source": [
    "def studMarks(marks):\n",
    "    sum_marks=sum(marks)\n",
    "    total_sub=len(marks)\n",
    "    average=sum_marks/total_sub\n",
    "    return average\n",
    "\n",
    "def grade_marks(average_marks):\n",
    "    if average > 90 and average<100:\n",
    "        grade=\"A\"\n",
    "    elif average >80 and average< 90:\n",
    "        grade=\"B\"\n",
    "    elif average >70 and average< 80:\n",
    "        grade=\"C\"\n",
    "    elif average >60 and average< 70:\n",
    "        grade=\"D\"\n",
    "    elif average >50 and average< 60:\n",
    "        grade=\"E\"\n",
    "    else:\n",
    "        grade=\"Fail\"\n",
    "    return grade\n",
    "marks=[80,95,88,75,68]\n",
    "average=studMarks(marks)\n",
    "print(\"The average of the marks is\",average)\n",
    "grade=grade_marks(average)\n",
    "print(\"Grade of marks is\",grade)\n"
   ]
  },
  {
   "cell_type": "code",
   "execution_count": 15,
   "id": "d7224011",
   "metadata": {},
   "outputs": [
    {
     "name": "stdout",
     "output_type": "stream",
     "text": [
      "average is 87.83333333333333\n",
      "grade is B\n"
     ]
    }
   ],
   "source": [
    "def average_marks(marks):\n",
    "    sum_marks=sum(marks)\n",
    "    tot_sub=len(marks)\n",
    "    average=sum_marks/tot_sub\n",
    "    return average\n",
    "def grad_marks(grade):\n",
    "    if average>90 and average<100:\n",
    "        garade=\"A\"\n",
    "    elif average>80 and average<90:\n",
    "        grade=\"B\"\n",
    "        return grade\n",
    "marks=[80,90,78,98,85,96]\n",
    "average=average_marks(marks)\n",
    "print(\"average is\",average)\n",
    "grade=grad_marks(grade)\n",
    "print(\"grade is\",grade)"
   ]
  },
  {
   "cell_type": "code",
   "execution_count": 5,
   "id": "c8900eb5",
   "metadata": {},
   "outputs": [
    {
     "name": "stdout",
     "output_type": "stream",
     "text": [
      "5\n",
      "12\n",
      "sum is 17\n",
      "multiplication of two nos 60\n"
     ]
    }
   ],
   "source": [
    "def add_num(a,b):\n",
    "    return a+b\n",
    "def mul_num(a,b):\n",
    "    return a*b\n",
    "num1=int(input())\n",
    "num2=int(input())\n",
    "print(\"sum is\",add_num(num1,num2))\n",
    "print(\"multiplication of two nos\",mul_num(num1,num2))\n",
    "\n"
   ]
  },
  {
   "cell_type": "code",
   "execution_count": 3,
   "id": "ed153306",
   "metadata": {},
   "outputs": [
    {
     "name": "stdout",
     "output_type": "stream",
     "text": [
      "Hello\n",
      "Gowda\n",
      "Hello\n",
      "Gowda\n",
      "Hello Gowda\n",
      "Welcome to kolar\n"
     ]
    }
   ],
   "source": [
    "def sample():\n",
    "    print(\"Hello\")\n",
    "    print(\"Gowda\")\n",
    "sample()\n",
    "sample()\n",
    "def greet(name):\n",
    "    print(\"Hello\",name)\n",
    "    print(\"Welcome to kolar\")\n",
    "greet(\"Gowda\")\n"
   ]
  },
  {
   "cell_type": "code",
   "execution_count": 4,
   "id": "35702acd",
   "metadata": {},
   "outputs": [
    {
     "name": "stdout",
     "output_type": "stream",
     "text": [
      "30\n"
     ]
    }
   ],
   "source": [
    "def addition(a,b):\n",
    "    add=a+b\n",
    "    return add\n",
    "add=addition(10,20)\n",
    "print(add)"
   ]
  },
  {
   "cell_type": "code",
   "execution_count": 5,
   "id": "30f8a47a",
   "metadata": {},
   "outputs": [
    {
     "name": "stdout",
     "output_type": "stream",
     "text": [
      "1 we\n",
      "1 We\n"
     ]
    }
   ],
   "source": [
    "# capitalize\n",
    "def solve(s):\n",
    "    for i in s.split():\n",
    "        s=s.replace(i,i.capitalize())\n",
    "    return s\n",
    "s=input()\n",
    "s=solve(s)\n",
    "print(s)"
   ]
  },
  {
   "cell_type": "code",
   "execution_count": 12,
   "id": "8dd296b1",
   "metadata": {},
   "outputs": [
    {
     "name": "stdout",
     "output_type": "stream",
     "text": [
      " 2   3   5   7   11   13   17   19   23   29   31   37   41   43   47   53   59   61   67   71   73   79   83   89   97  "
     ]
    }
   ],
   "source": [
    "#prime number\n",
    "for Number in range (1, 101):\n",
    "    count = 0\n",
    "    for i in range(2, (Number//2 + 1)):\n",
    "        if(Number % i == 0):\n",
    "            count = count + 1\n",
    "            break\n",
    "\n",
    "    if (count == 0 and Number != 1):\n",
    "        print(\" %d\" %Number, end = '  ')"
   ]
  },
  {
   "cell_type": "code",
   "execution_count": 20,
   "id": "15383b96",
   "metadata": {},
   "outputs": [
    {
     "name": "stdout",
     "output_type": "stream",
     "text": [
      "10\n",
      "150\n",
      "11 13 17 19 23 29 31 37 41 43 47 53 59 61 67 71 73 79 83 89 97 101 103 107 109 113 127 131 137 139 149 "
     ]
    }
   ],
   "source": [
    "min=int(input())\n",
    "max=int(input())\n",
    "for num in range(min,max+1):\n",
    "    count=0\n",
    "    for i in range(2,num//i+1):\n",
    "        if (num%i==0):\n",
    "            count +=1\n",
    "            break\n",
    "    if(count==0 and num!=1):\n",
    "        print(\"%d\"%num,end=' ')\n",
    "    elif(count==1 and num==1):\n",
    "        print(\"%d\"%num,end=' ')"
   ]
  },
  {
   "cell_type": "code",
   "execution_count": 28,
   "id": "9f35f33f",
   "metadata": {},
   "outputs": [
    {
     "name": "stdout",
     "output_type": "stream",
     "text": [
      "10\n",
      "20\n",
      "11 13 17 19 "
     ]
    }
   ],
   "source": [
    "#Prime nos between 2 nos\n",
    "\n",
    "min=int(input())\n",
    "max=int(input())\n",
    "for num in range(min,max+1):\n",
    "    count=0\n",
    "    for i in range(2,num//i+1):\n",
    "        if (num%i==0):\n",
    "            count +=1\n",
    "            break\n",
    "    if(count==0 and num!=1):\n",
    "        print(\"%d\"%num,end=' ')"
   ]
  },
  {
   "cell_type": "code",
   "execution_count": 32,
   "id": "4b2a5aaa",
   "metadata": {},
   "outputs": [
    {
     "name": "stdout",
     "output_type": "stream",
     "text": [
      "10\n",
      "10 is not a prime number\n"
     ]
    }
   ],
   "source": [
    "#prime or not\n",
    "num=int(input())\n",
    "if num>1:\n",
    "    for i in range(2,num):\n",
    "        if (num%i)==0:\n",
    "            print(num,\"is not a prime number\")\n",
    "            break\n",
    "    else:\n",
    "        print(num,\"is a prime number\")\n",
    "else:\n",
    "    print(num,\"is not a prime number\")"
   ]
  },
  {
   "cell_type": "code",
   "execution_count": 42,
   "id": "b3628fb9",
   "metadata": {},
   "outputs": [
    {
     "name": "stdout",
     "output_type": "stream",
     "text": [
      "Concatenation of 3 strings are: KolarByreGowda\n"
     ]
    }
   ],
   "source": [
    "def concatStr(s1,s2,s3):\n",
    "    concat=s1+s2+s3\n",
    "    print(\"Concatenation of 3 strings are:\",concat)\n",
    "concatStr(\"Kolar\",\"Byre\",\"Gowda\")\n"
   ]
  },
  {
   "cell_type": "code",
   "execution_count": 49,
   "id": "2852a512",
   "metadata": {},
   "outputs": [
    {
     "name": "stdout",
     "output_type": "stream",
     "text": [
      "w\n"
     ]
    }
   ],
   "source": [
    "str1=\"gowda\"\n",
    "strLen=len(str1)\n",
    "midind=strLen//2\n",
    "strmid=str1[midind]\n",
    "print(strmid)"
   ]
  },
  {
   "cell_type": "code",
   "execution_count": 54,
   "id": "5cc2ad73",
   "metadata": {},
   "outputs": [
    {
     "name": "stdout",
     "output_type": "stream",
     "text": [
      "gowda\n",
      "Not a palindrome\n"
     ]
    }
   ],
   "source": [
    "string=input()\n",
    "strRev=string[::-1]\n",
    "if string==strRev:\n",
    "    print(\"String is palindrome\")\n",
    "else:\n",
    "    print(\"Not a palindrome\")\n"
   ]
  },
  {
   "cell_type": "code",
   "execution_count": null,
   "id": "c3792e26",
   "metadata": {},
   "outputs": [],
   "source": []
  },
  {
   "cell_type": "code",
   "execution_count": null,
   "id": "dc8896b8",
   "metadata": {},
   "outputs": [],
   "source": []
  },
  {
   "cell_type": "code",
   "execution_count": null,
   "id": "12db10fe",
   "metadata": {},
   "outputs": [],
   "source": []
  },
  {
   "cell_type": "code",
   "execution_count": null,
   "id": "acbd1ec4",
   "metadata": {},
   "outputs": [],
   "source": []
  },
  {
   "cell_type": "code",
   "execution_count": null,
   "id": "58da9f02",
   "metadata": {},
   "outputs": [],
   "source": []
  },
  {
   "cell_type": "code",
   "execution_count": null,
   "id": "53d3080a",
   "metadata": {},
   "outputs": [],
   "source": []
  }
 ],
 "metadata": {
  "kernelspec": {
   "display_name": "Python 3 (ipykernel)",
   "language": "python",
   "name": "python3"
  },
  "language_info": {
   "codemirror_mode": {
    "name": "ipython",
    "version": 3
   },
   "file_extension": ".py",
   "mimetype": "text/x-python",
   "name": "python",
   "nbconvert_exporter": "python",
   "pygments_lexer": "ipython3",
   "version": "3.9.7"
  }
 },
 "nbformat": 4,
 "nbformat_minor": 5
}

{
 "cells": [
  {
   "cell_type": "code",
   "execution_count": 50,
   "id": "ff828296",
   "metadata": {},
   "outputs": [
    {
     "name": "stdout",
     "output_type": "stream",
     "text": [
      "0\n",
      "5\n",
      "10\n",
      "15\n",
      "20\n",
      "25\n",
      "30\n",
      "35\n",
      "40\n",
      "45\n",
      "50\n",
      "55\n",
      "60\n",
      "65\n",
      "70\n",
      "0\n",
      "8\n",
      "16\n",
      "24\n",
      "32\n",
      "40\n",
      "48\n",
      "56\n",
      "64\n",
      "75\n",
      "70\n",
      "65\n",
      "60\n",
      "55\n",
      "50\n",
      "45\n",
      "40\n",
      "35\n",
      "30\n",
      "25\n",
      "20\n",
      "15\n",
      "10\n",
      "5\n",
      "96\n",
      "88\n",
      "80\n"
     ]
    }
   ],
   "source": [
    "#Task1:\n",
    "\n",
    "#Using Range function  print multiples of 5 from 0 to 75\n",
    "#Using Range function  print multiples of 8 from 0 to 72\n",
    "\n",
    "#Using Range function  print multiples of 5 from 75 to 0\n",
    "#Using Range function  print multiples of 8 from 96 to 72\n",
    "a=5\n",
    "b=8\n",
    "for i in range(0,75):\n",
    "    if i%a==0:\n",
    "        print(i)\n",
    "for i in range(0,72):\n",
    "    if i%b==0:\n",
    "        print(i)\n",
    "for i in range(75,0,-1):\n",
    "    if i%a==0:\n",
    "        print(i)\n",
    "for i in range(96,72,-1):\n",
    "    if i%b==0:\n",
    "        print(i)"
   ]
  },
  {
   "cell_type": "code",
   "execution_count": 25,
   "id": "c160f3f7",
   "metadata": {},
   "outputs": [
    {
     "name": "stdout",
     "output_type": "stream",
     "text": [
      "Enter the size of list\t5\n",
      "Enter the elements of the list\n",
      "4\n",
      "5\n",
      "6\n",
      "7\n",
      "8\n",
      "The list is as follows\n",
      " [4, 5, 6, 7, 8]\n"
     ]
    }
   ],
   "source": [
    "#Task2:\n",
    "\n",
    "#Get a dynamic list from user\n",
    "\n",
    "list1=[]\n",
    "n=int(input(\"Enter the size of list\\t\"))\n",
    "print(\"Enter the elements of the list\")\n",
    "for i in range(0,n):\n",
    "    ele=int(input())\n",
    "    list1.append(ele)\n",
    "print(\"The list is as follows\\n\",list1)"
   ]
  },
  {
   "cell_type": "code",
   "execution_count": 3,
   "id": "7b18a7df",
   "metadata": {},
   "outputs": [
    {
     "name": "stdout",
     "output_type": "stream",
     "text": [
      "Enter the size of the dictionary\t3\n",
      "Enter the Keys\t2\n",
      "enter the Values\tgowda\n",
      "Enter the Keys\t3\n",
      "enter the Values\t5\n",
      "Enter the Keys\t6\n",
      "enter the Values\tGoo\n",
      "{2: 'gowda', 3: '5', 6: 'Goo'}\n"
     ]
    }
   ],
   "source": [
    "#Task3:\n",
    "\n",
    "#Get a dynamic dictionary from user\n",
    "\n",
    "#clues Task2 and Task3\n",
    "#1. get number of elements from user\n",
    "#Loop through range\n",
    "#append to list/dicti\n",
    "dict1={}\n",
    "elements=int(input(\"Enter the size of the dictionary\\t\"))\n",
    "for i in range(elements):\n",
    "    keys=int(input(\"Enter the Keys\\t\"))\n",
    "    values=input(\"enter the Values\\t\")\n",
    "    dict1[keys]=values\n",
    "print(dict1)\n"
   ]
  },
  {
   "cell_type": "code",
   "execution_count": 61,
   "id": "87df96d9",
   "metadata": {},
   "outputs": [
    {
     "name": "stdout",
     "output_type": "stream",
     "text": [
      "Enter starting range10\n",
      "Enter ending range100\n",
      "[16, 24, 32, 40, 48, 56, 64, 72, 80, 88, 96]\n"
     ]
    }
   ],
   "source": [
    "\"\"\"\"Task4:\n",
    "\n",
    "Get two integers from user\n",
    "print multiples of 8 between them\n",
    "\n",
    "clues:\n",
    "Use range function in for loop\n",
    "Use if condition inside for loop\n",
    "add in to list\n",
    "\n",
    "input 10 100\n",
    "multiples of 8\n",
    "\n",
    "[16,24,32.....,96]\"\"\"\n",
    "\n",
    "num1=int(input(\"Enter starting range\"))\n",
    "num2=int(input(\"Enter ending range\"))\n",
    "list1=[]\n",
    "for i in range(num1,num2):\n",
    "    if i%8==0:\n",
    "        list1.append(i)\n",
    "print(list1)"
   ]
  },
  {
   "cell_type": "code",
   "execution_count": 41,
   "id": "5164394f",
   "metadata": {},
   "outputs": [
    {
     "name": "stdout",
     "output_type": "stream",
     "text": [
      "Odd numbers in the list are: [3, 5, 7, 9]\n",
      "Even numbers in the list are: [4, 2, 8, 10]\n"
     ]
    }
   ],
   "source": [
    "\"\"\"\"Task5:\n",
    "Input:\n",
    "Li1 = [3,4,5,2,7,8,9,10]\n",
    "\n",
    "Output:\n",
    "Li_odd = [3,5,7,9]\n",
    "Li_even = [4,2,8,10]\n",
    "\n",
    "#Li1 = [3,4,5,2,7,8,9,10]\"\"\"\n",
    "\n",
    "list1=[3,4,5,2,7,8,9,10]\n",
    "odd=[]\n",
    "even=[]\n",
    "for i in list1:\n",
    "    if  i%2==0:\n",
    "        even.append(i)\n",
    "    else:\n",
    "        odd.append(i)\n",
    "print(\"Odd numbers in the list are:\",odd)\n",
    "print(\"Even numbers in the list are:\",even)\n",
    "        \n",
    "    "
   ]
  },
  {
   "cell_type": "code",
   "execution_count": 60,
   "id": "5bc535af",
   "metadata": {},
   "outputs": [
    {
     "name": "stdout",
     "output_type": "stream",
     "text": [
      "Positive elements [8, 10, 20, 21, 17, 28]\n",
      "Negative elements [-1, -7, -3]\n",
      "Zeros [0, 0]\n",
      "Positive numbers in list: 6\n",
      "Negaive numbers in list: 3\n",
      "Zeros numbers in list: 2\n"
     ]
    }
   ],
   "source": [
    "\"\"\"\"\"Task6:\n",
    "\n",
    "Input: [-1, -7,8,10,20,21,17,28,-3,0,0,]\n",
    "    \n",
    "Output:\n",
    "neg_LI = [-1,-7,-3]\n",
    "pos_LI = []\n",
    "Zeros = []\n",
    "\n",
    "Numeber of postivie ele: 6\n",
    "Number nega: 3\n",
    "Number of zeros: 2\"\"\"\"\n",
    "\n",
    "list1=[-1,-7,8,10,20,21,17,28,-3,0,0]\n",
    "pos=[]\n",
    "neg=[]\n",
    "zero=[]\n",
    "for i in list1:\n",
    "    if i>0:\n",
    "        pos.append(i)\n",
    "    elif i<0:\n",
    "        neg.append(i)\n",
    "    elif i==0:\n",
    "        zero.append(i)\n",
    "print(\"Positive elements\",pos)\n",
    "print(\"Negative elements\",neg)\n",
    "print(\"Zeros\",zero)\n",
    "print(\"Positive numbers in list:\",len(pos))\n",
    "print(\"Negaive numbers in list:\",len(neg))\n",
    "print(\"Zeros numbers in list:\",len(zero))"
   ]
  },
  {
   "cell_type": "code",
   "execution_count": null,
   "id": "0a9e4377",
   "metadata": {},
   "outputs": [],
   "source": []
  }
 ],
 "metadata": {
  "kernelspec": {
   "display_name": "Python 3 (ipykernel)",
   "language": "python",
   "name": "python3"
  },
  "language_info": {
   "codemirror_mode": {
    "name": "ipython",
    "version": 3
   },
   "file_extension": ".py",
   "mimetype": "text/x-python",
   "name": "python",
   "nbconvert_exporter": "python",
   "pygments_lexer": "ipython3",
   "version": "3.9.7"
  }
 },
 "nbformat": 4,
 "nbformat_minor": 5
}

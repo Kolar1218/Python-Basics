{
 "cells": [
  {
   "cell_type": "code",
   "execution_count": null,
   "id": "739dc7ea",
   "metadata": {},
   "outputs": [],
   "source": [
    "string=str(input(\"Enter the string\\n\"))\n",
    "strList=list(string)\n",
    "print(strList)\n",
    "changeChar=int(input(\"Enter the position of the string to change\\n\"))\n",
    "\n",
    "strList[changeChar]=input(\"Enter the new char to update\\n\")\n",
    "output=str(strList)\n",
    "plain=output.join(\"_\")\n",
    "plain\n"
   ]
  },
  {
   "cell_type": "code",
   "execution_count": null,
   "id": "aafae63b",
   "metadata": {},
   "outputs": [],
   "source": [
    "string=str(input(\"Enter the string\\n\"))\n",
    "strList=list(string)\n",
    "print(strList)\n",
    "print(\"Enter the char to find the index num:\")\n",
    "strind=strList.index(input(string))\n",
    "print(\"The index of the string is\",strind)\n",
    "#print(strList)\n",
    "changeChar=int(input(\"Enter the position of the string to change\\n\"))\n",
    "\n",
    "strList[changeChar]=input(\"Enter the new char to update\\n\")\n",
    "output=str(strList)\n",
    "string=\"\".join(strList)\n",
    "string\n",
    "\n"
   ]
  },
  {
   "cell_type": "code",
   "execution_count": null,
   "id": "38998b79",
   "metadata": {},
   "outputs": [],
   "source": [
    "string=\"asdfghjkl\"\n",
    "l=list(string)\n",
    "l[4]=\"z\"\n",
    "string=\"\".join(l)\n",
    "string\n"
   ]
  }
 ],
 "metadata": {
  "kernelspec": {
   "display_name": "Python 3 (ipykernel)",
   "language": "python",
   "name": "python3"
  },
  "language_info": {
   "codemirror_mode": {
    "name": "ipython",
    "version": 3
   },
   "file_extension": ".py",
   "mimetype": "text/x-python",
   "name": "python",
   "nbconvert_exporter": "python",
   "pygments_lexer": "ipython3",
   "version": "3.9.7"
  }
 },
 "nbformat": 4,
 "nbformat_minor": 5
}

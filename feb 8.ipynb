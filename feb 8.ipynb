{
 "cells": [
  {
   "cell_type": "code",
   "execution_count": 43,
   "id": "29323419",
   "metadata": {},
   "outputs": [
    {
     "name": "stdout",
     "output_type": "stream",
     "text": [
      "Common elements in the tuple1 and tuple2 are: (5, 6, 7, 8, 9)\n",
      "Elements of tuple1 are: (1, 4, 5, 6, 7, 8)\n",
      "Elements of tuple2 are: (5, 6, 7, 8, 9)\n",
      "After removing duplicate elements, the concatenated tuple is: (1, 4, 5, 6, 7, 8, 9)\n",
      "6\n"
     ]
    }
   ],
   "source": [
    "tuple1=(1,4,5,6,7,8)\n",
    "tuple2=(5,6,7,8,9)\n",
    "common=(tuple1 and tuple2)\n",
    "print(\"Common elements in the tuple1 and tuple2 are:\",common)\n",
    "print(\"Elements of tuple1 are:\",str(tuple1))\n",
    "print(\"Elements of tuple2 are:\",str(tuple2))\n",
    "concatTuple=tuple1+tuple2\n",
    "duplic=tuple(set(concatTuple))\n",
    "print(\"After removing duplicate elements, the concatenated tuple is:\", duplic)\n",
    "findIndex=duplic.index(9)\n",
    "print(findIndex)"
   ]
  },
  {
   "cell_type": "code",
   "execution_count": 67,
   "id": "80ab1e91",
   "metadata": {},
   "outputs": [
    {
     "name": "stdout",
     "output_type": "stream",
     "text": [
      "{0, 1, 2, 3, 4, 5, 7, 8, 9}\n",
      "{0, 4, 5, 6}\n",
      "Is set1 is subset of set2: False\n",
      "Common elements in two sets are {0, 4, 5}\n",
      "{1, 2, 3, 4, 5, 6, 7, 9}\n"
     ]
    }
   ],
   "source": [
    "set1=set()\n",
    "set2=set()\n",
    "set3={7,8,9,1,2,3,4,5,0}\n",
    "set4={4,5,6,0}\n",
    "set1.update(set3)\n",
    "set2.update(set4)\n",
    "print(set1)\n",
    "print(set2)\n",
    "print(\"Is set1 is subset of set2:\",set1.issubset(set2))\n",
    "print(\"Common elements in two sets are\",set1.intersection(set2))\n",
    "set1.discard(8)\n",
    "set2.discard(8)\n",
    "set2.discard(0)\n",
    "set1.discard(0)\n",
    "print(set1.union(set2))\n",
    "\n"
   ]
  }
 ],
 "metadata": {
  "kernelspec": {
   "display_name": "Python 3 (ipykernel)",
   "language": "python",
   "name": "python3"
  },
  "language_info": {
   "codemirror_mode": {
    "name": "ipython",
    "version": 3
   },
   "file_extension": ".py",
   "mimetype": "text/x-python",
   "name": "python",
   "nbconvert_exporter": "python",
   "pygments_lexer": "ipython3",
   "version": "3.9.7"
  }
 },
 "nbformat": 4,
 "nbformat_minor": 5
}

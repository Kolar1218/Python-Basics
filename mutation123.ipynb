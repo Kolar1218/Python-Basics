{
 "cells": [
  {
   "cell_type": "code",
   "execution_count": null,
   "id": "4886b7a5",
   "metadata": {},
   "outputs": [],
   "source": [
    "string=str(input(\"Enter the string\\n\"))\n",
    "strList=list(string)\n",
    "print(strList)\n",
    "changeChar=int(input(\"Enter the position of the string to change\\n\"))\n",
    "\n",
    "strList[changeChar]=input(\"Enter the new char to update\\n\")\n",
    "output=str(strList)\n",
    "plain=output.join(\"_\")\n",
    "plain\n"
   ]
  },
  {
   "cell_type": "code",
   "execution_count": 70,
   "id": "aafae63b",
   "metadata": {},
   "outputs": [
    {
     "name": "stdout",
     "output_type": "stream",
     "text": [
      "Enter the string\n",
      "asasas\n",
      "Enter the char to find the index num:\n",
      "asasasa\n",
      "The index num of the string is 0\n",
      "['a', 's', 'a', 's', 'a', 's']\n",
      "Enter the position of the string to change\n",
      "0\n",
      "Enter the new char to update\n",
      "w\n"
     ]
    },
    {
     "data": {
      "text/plain": [
       "'wsasas'"
      ]
     },
     "execution_count": 70,
     "metadata": {},
     "output_type": "execute_result"
    }
   ],
   "source": [
    "string=str(input(\"Enter the string\\n\"))\n",
    "strList=list(string)\n",
    "print(\"Enter the char to find the index num:\")\n",
    "strind=strList.index(input(string))\n",
    "print(\"The index num of the string is\",strind)\n",
    "print(strList)\n",
    "changeChar=int(input(\"Enter the position of the string to change\\n\"))\n",
    "strList[changeChar]=input(\"Enter the new char to update\\n\")\n",
    "output=str(strList)\n",
    "string=\"\".join(strList)\n",
    "string"
   ]
  },
  {
   "cell_type": "code",
   "execution_count": null,
   "id": "38998b79",
   "metadata": {},
   "outputs": [],
   "source": [
    "string=\"asdfghjkl\"\n",
    "l=list(string)\n",
    "l[4]=\"z\"\n",
    "string=\"\".join(l)\n",
    "string\n"
   ]
  },
  {
   "cell_type": "code",
   "execution_count": 75,
   "id": "56b1b208",
   "metadata": {},
   "outputs": [
    {
     "name": "stdout",
     "output_type": "stream",
     "text": [
      "Enter the string\tBangalorw\n",
      "Enter the Char to update\tw\n",
      "Index Num of Char is 8\n",
      "Enter the Index num to update\t8\n",
      "Enter New char to update\te\n"
     ]
    },
    {
     "data": {
      "text/plain": [
       "'Bangalore'"
      ]
     },
     "execution_count": 75,
     "metadata": {},
     "output_type": "execute_result"
    }
   ],
   "source": [
    "string=input(\"Enter the string\\t\")\n",
    "strList=list(string)\n",
    "strInd=strList.index(input(\"Enter the Char to update\\t\"))\n",
    "print(\"Index Num of Char is\",strInd)\n",
    "changeChar=int(input(\"Enter the Index num to update\\t\"))\n",
    "strList[changeChar]=input(\"Enter New char to update\\t\")\n",
    "output=str(strList)\n",
    "string=\"\".join(strList)\n",
    "string"
   ]
  }
 ],
 "metadata": {
  "kernelspec": {
   "display_name": "Python 3 (ipykernel)",
   "language": "python",
   "name": "python3"
  },
  "language_info": {
   "codemirror_mode": {
    "name": "ipython",
    "version": 3
   },
   "file_extension": ".py",
   "mimetype": "text/x-python",
   "name": "python",
   "nbconvert_exporter": "python",
   "pygments_lexer": "ipython3",
   "version": "3.9.7"
  }
 },
 "nbformat": 4,
 "nbformat_minor": 5
}

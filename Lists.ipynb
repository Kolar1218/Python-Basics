{
 "cells": [
  {
   "cell_type": "code",
   "execution_count": null,
   "id": "4213bb46",
   "metadata": {},
   "outputs": [],
   "source": [
    "==============================================================================================================\n",
    "\n",
    "Project1: Datastructure calculator (List/tuple/set/dictionary/loops)\n",
    "\n",
    "==========================================\n",
    "\n",
    "Welcome to Data structure calculator\n",
    "\n",
    "Please select any one Data structure, \n",
    "1. List (15 operations) ==> List.py\n",
    "2. Tuple (5 operatios)  ===> Tuple.py\n",
    "3. Set (15 operations) ===> Set.py\n",
    "4. Dictionary (10 operations) ==> Dict.py\n",
    "\n",
    "Main.py\n",
    "\n",
    "import List\n",
    "import Tuple\n",
    "import Set\n",
    "import Dict\n",
    "\n",
    "\n",
    "Do create Datastructure:\n",
    "\n",
    "List ==> selected\n",
    "1. create list \n",
    "\n",
    "Options under List:\n",
    "\n",
    "1. append\n",
    "2. pop\n",
    "3. update / concatenation\n",
    "4. sum/min/max\n",
    "6. len \n",
    "7. mean\n",
    "8. median\n",
    "9. find\n",
    "10. frequency\n",
    "11. .... 15 operations\n",
    "\n",
    "(15 operations)\n",
    "\n",
    "\n",
    "Set:\n",
    "\n",
    "Create a set\n",
    "\n",
    "Options:\n",
    "\n",
    "1. add\n",
    "2. update\n",
    "3. intersection\n",
    "\n",
    "1. Start with the project\n",
    "2. Modules\n",
    "3. Documentation\n",
    "4. Exception handling\n",
    "5. Github documentation"
   ]
  },
  {
   "cell_type": "code",
   "execution_count": 2,
   "id": "e1de22d0",
   "metadata": {},
   "outputs": [
    {
     "name": "stdout",
     "output_type": "stream",
     "text": [
      "No ele2\n",
      "ele12\n",
      "ele45\n",
      "[12, 45]\n"
     ]
    }
   ],
   "source": [
    "def creatList():\n",
    "    listEle=[]\n",
    "    eleReq=int(input(\"No ele\"))\n",
    "    for i in range(0,eleReq):\n",
    "        ele=int(input(\"ele\"))\n",
    "        listEle.append(ele)\n",
    "    return listEle\n",
    "list1=creatList()\n",
    "print(list1)"
   ]
  },
  {
   "cell_type": "code",
   "execution_count": 34,
   "id": "fad7c8b7",
   "metadata": {},
   "outputs": [
    {
     "data": {
      "text/plain": [
       "[5, 6, 7]"
      ]
     },
     "execution_count": 34,
     "metadata": {},
     "output_type": "execute_result"
    }
   ],
   "source": [
    "list1"
   ]
  },
  {
   "cell_type": "code",
   "execution_count": 39,
   "id": "f751021e",
   "metadata": {},
   "outputs": [
    {
     "data": {
      "text/plain": [
       "3"
      ]
     },
     "execution_count": 39,
     "metadata": {},
     "output_type": "execute_result"
    }
   ],
   "source": [
    "def lenList():\n",
    "    Length=len(list1)\n",
    "    return list1\n",
    "len(createList())"
   ]
  },
  {
   "cell_type": "code",
   "execution_count": 38,
   "id": "55979f4c",
   "metadata": {},
   "outputs": [
    {
     "data": {
      "text/plain": [
       "18"
      ]
     },
     "execution_count": 38,
     "metadata": {},
     "output_type": "execute_result"
    }
   ],
   "source": [
    "#Sum of elements of list\n",
    "def sumList(addi):\n",
    "    add=sum(list1)\n",
    "    return add\n",
    "sumList(list1)"
   ]
  },
  {
   "cell_type": "code",
   "execution_count": 71,
   "id": "0d97ddf0",
   "metadata": {},
   "outputs": [
    {
     "name": "stdout",
     "output_type": "stream",
     "text": [
      "Enter the position2\n",
      "Enter the element to update878\n"
     ]
    },
    {
     "data": {
      "text/plain": [
       "[1451, 6, 878]"
      ]
     },
     "execution_count": 71,
     "metadata": {},
     "output_type": "execute_result"
    }
   ],
   "source": [
    "#Update a value in the list\n",
    "def updateList(update):\n",
    "    list1[pos]=ele\n",
    "    return update\n",
    "pos=int(input(\"Enter the position\"))\n",
    "ele=int(input(\"Enter the element to update\"))\n",
    "updateList(list1)"
   ]
  },
  {
   "cell_type": "code",
   "execution_count": 42,
   "id": "c5c73a12",
   "metadata": {},
   "outputs": [
    {
     "data": {
      "text/plain": [
       "8.333333333333334"
      ]
     },
     "execution_count": 42,
     "metadata": {},
     "output_type": "execute_result"
    }
   ],
   "source": [
    "#Mean of a list\n",
    "def meanList(mean):\n",
    "    mean=sum(list1)/len(list1)\n",
    "    return mean\n",
    "meanList(list1)"
   ]
  },
  {
   "cell_type": "code",
   "execution_count": 43,
   "id": "5c9b86d2",
   "metadata": {},
   "outputs": [
    {
     "data": {
      "text/plain": [
       "[6]"
      ]
     },
     "execution_count": 43,
     "metadata": {},
     "output_type": "execute_result"
    }
   ],
   "source": [
    "#Median of a list\n",
    "def medianList(median):\n",
    "    median=list1[(len(list1)-1)//2:(len(list1)+2)//2]\n",
    "    return median\n",
    "medianList(list1)"
   ]
  },
  {
   "cell_type": "code",
   "execution_count": 73,
   "id": "fb97624a",
   "metadata": {},
   "outputs": [
    {
     "name": "stdout",
     "output_type": "stream",
     "text": [
      "Enter the position1\n"
     ]
    },
    {
     "data": {
      "text/plain": [
       "6"
      ]
     },
     "execution_count": 73,
     "metadata": {},
     "output_type": "execute_result"
    }
   ],
   "source": [
    "#Access aelement in the list(Using index)\n",
    "def accessList(access):\n",
    "    return list1[ele]\n",
    "ele=int(input(\"Enter the position\"))\n",
    "accessList(list1)"
   ]
  },
  {
   "cell_type": "code",
   "execution_count": 19,
   "id": "85c95eec",
   "metadata": {},
   "outputs": [
    {
     "data": {
      "text/plain": [
       "[1, 2, 4, 5, 6, 7, 8, 9, 10]"
      ]
     },
     "execution_count": 19,
     "metadata": {},
     "output_type": "execute_result"
    }
   ],
   "source": [
    "#Sorting the list elements\n",
    "def sortList(sort):\n",
    "    list1.sort()\n",
    "    return list1\n",
    "sortList(list1)"
   ]
  },
  {
   "cell_type": "code",
   "execution_count": 24,
   "id": "bab37a39",
   "metadata": {},
   "outputs": [
    {
     "data": {
      "text/plain": [
       "10"
      ]
     },
     "execution_count": 24,
     "metadata": {},
     "output_type": "execute_result"
    }
   ],
   "source": [
    "#Max element in the list\n",
    "def maxList(max):\n",
    "    list1.sort()\n",
    "    maxi=list1[-1]\n",
    "    return maxi\n",
    "maxList(list1)"
   ]
  },
  {
   "cell_type": "code",
   "execution_count": 46,
   "id": "6a3e5271",
   "metadata": {},
   "outputs": [
    {
     "data": {
      "text/plain": [
       "5"
      ]
     },
     "execution_count": 46,
     "metadata": {},
     "output_type": "execute_result"
    }
   ],
   "source": [
    "#Min element in the list\n",
    "def minList(min):\n",
    "    list1.sort()\n",
    "    mini=list1[0]\n",
    "    return mini\n",
    "minList(list1)"
   ]
  },
  {
   "cell_type": "code",
   "execution_count": 42,
   "id": "b5107496",
   "metadata": {},
   "outputs": [
    {
     "name": "stdout",
     "output_type": "stream",
     "text": [
      "Enter the element to count\t10\n"
     ]
    },
    {
     "data": {
      "text/plain": [
       "2"
      ]
     },
     "execution_count": 42,
     "metadata": {},
     "output_type": "execute_result"
    }
   ],
   "source": [
    "#Count elemnets\n",
    "def countList(counting):\n",
    "    c=list1.count(ele)\n",
    "    return c\n",
    "ele=int(input(\"Enter the element to count\\t\"))\n",
    "countList(list1)"
   ]
  },
  {
   "cell_type": "code",
   "execution_count": 36,
   "id": "c528f701",
   "metadata": {},
   "outputs": [
    {
     "name": "stdout",
     "output_type": "stream",
     "text": [
      "Enter the element to remove from the list2\n",
      "List before removing the element [2, 4, 5, 6, 7, 8, 9]\n",
      "List after removing the element [4, 5, 6, 7, 8, 9]\n"
     ]
    }
   ],
   "source": [
    "#remove perticular element\n",
    "def removeList(rem):\n",
    "    r=list1.remove(ele)\n",
    "    return r\n",
    "ele=int(input(\"Enter the element to remove from the list\"))\n",
    "print(\"List before removing the element\",list1)\n",
    "removeList(list1)\n",
    "print(\"List after removing the element\",list1)"
   ]
  },
  {
   "cell_type": "code",
   "execution_count": 70,
   "id": "b4cb877f",
   "metadata": {},
   "outputs": [
    {
     "name": "stdout",
     "output_type": "stream",
     "text": [
      "Enter an intger to add\t10\n",
      "List before adding the element [1, 2, 3, 4, 5, 6, 7, 8, 9]\n",
      "List after adding the element [1, 2, 3, 4, 5, 6, 7, 8, 9, 10]\n"
     ]
    }
   ],
   "source": [
    "#add new element to the list\n",
    "def addele(newEle):\n",
    "    e=list1.append(ele)\n",
    "    return e\n",
    "ele=int(input(\"Enter an intger to add\\t\"))\n",
    "print(\"List before adding the element\",list1)\n",
    "addele(list1)\n",
    "print(\"List after adding the element\",list1)"
   ]
  },
  {
   "cell_type": "code",
   "execution_count": 95,
   "id": "d803d783",
   "metadata": {},
   "outputs": [
    {
     "name": "stdout",
     "output_type": "stream",
     "text": [
      "[]\n"
     ]
    }
   ],
   "source": [
    "def clearList(allClear):\n",
    "    list1.clear()\n",
    "    return allClear\n",
    "print(clearList(list1))"
   ]
  },
  {
   "cell_type": "code",
   "execution_count": 102,
   "id": "ca644d35",
   "metadata": {},
   "outputs": [
    {
     "name": "stdout",
     "output_type": "stream",
     "text": [
      "Enter the elements required2\n",
      "Enter the elements444\n",
      "Enter the elements555\n",
      "[1, 2, 32, 54, 78, 55]\n"
     ]
    }
   ],
   "source": [
    "#Extend list\n",
    "def extendList(extend):\n",
    "    newList=[]\n",
    "    list1.extend(newList)\n",
    "    return list1\n",
    "eleRequired=int(input(\"Enter the elements required\"))\n",
    "for i in range(0,eleRequired):\n",
    "    elements=int(input(\"Enter the elements\"))\n",
    "    newList.append(elements)\n",
    "print(extendList(list1))"
   ]
  },
  {
   "cell_type": "code",
   "execution_count": 96,
   "id": "675e9db4",
   "metadata": {},
   "outputs": [
    {
     "name": "stdout",
     "output_type": "stream",
     "text": [
      "No ele5\n",
      "ele1\n",
      "ele2\n",
      "ele32\n",
      "ele54\n",
      "ele78\n",
      "[1, 2, 32, 54, 78]\n"
     ]
    }
   ],
   "source": [
    "def appendList():\n",
    "    listEle=[]\n",
    "    eleReq=int(input(\"No ele\"))\n",
    "    for i in range(0,eleReq):\n",
    "        ele=int(input(\"ele\"))\n",
    "        listEle.append(ele)\n",
    "    return listEle\n",
    "list1=appendList()\n",
    "print(list1)"
   ]
  },
  {
   "cell_type": "code",
   "execution_count": 118,
   "id": "ebafeda0",
   "metadata": {},
   "outputs": [
    {
     "name": "stdout",
     "output_type": "stream",
     "text": [
      "Select your Options to perform list operation\n",
      " 1.Append(Create List)\n",
      " 2.Length\n",
      " 3.Sum of List\n",
      " 4.Median\n",
      " 5.Mean\n",
      " 6.Update\n",
      " 7.Access Element\n",
      " 8.Sort\n",
      " 9.Minimum of list\n",
      " 10. Maximum of List\n",
      " 11.Remove\n",
      " 12.Add Element\n",
      " 13.Extend List\n",
      " 14.View List\n",
      " 15.Clear\n",
      "\n",
      "choice13\n",
      "You have selected Extend operation\n",
      "Number of ele2\n",
      "elements5555\n",
      "elements4444\n",
      "[5555, 4444]\n",
      "List after Extend [5, 8, 9, 6, 55, 784, 895, 5555, 4444]\n"
     ]
    }
   ],
   "source": [
    "def appendList():\n",
    "    listEle=[]\n",
    "    eleReq=int(input(\"No ele\"))\n",
    "    for i in range(0,eleReq):\n",
    "        ele=int(input(\"ele\"))\n",
    "        listEle.append(ele)\n",
    "    return listEle\n",
    "\n",
    "def lenList():\n",
    "    length=len(list1)\n",
    "    return length\n",
    "\n",
    "def sumList(addi):\n",
    "    add=sum(list1)\n",
    "    return add\n",
    "def medianList(median):\n",
    "    median=list1[(len(list1)-1)//2:(len(list1)+2)//2]\n",
    "    return median\n",
    "def meanList(mean):\n",
    "    mean=sum(list1)/len(list1)\n",
    "    return mean\n",
    "def updateList(update):\n",
    "    list1[pos]=ele\n",
    "    return update\n",
    "def accessList(access):\n",
    "    return list1[ele]\n",
    "def sortList(sort):\n",
    "    list1.sort()\n",
    "    return list1\n",
    "def minList(min):\n",
    "    list1.sort()\n",
    "    mini=list1[0]\n",
    "    return mini\n",
    "def maxList(max):\n",
    "    list1.sort()\n",
    "    maxi=list1[-1]\n",
    "    return maxi\n",
    "def removeList(rem):\n",
    "    r=list1.remove(ele)\n",
    "    return r\n",
    "def addele(newEle):\n",
    "    e=list1.append(ele)\n",
    "    return e\n",
    "def clearList(allClear):\n",
    "    list1.clear()\n",
    "    return allClear\n",
    "\n",
    "\n",
    "\n",
    "\n",
    "def listOp(options):   \n",
    "    if choice==1:\n",
    "        select=\"Append(Create List)\"\n",
    "        print(f\"You have selected {select} operation\")     \n",
    "    elif choice==2:\n",
    "        select=\"Length\"\n",
    "        print(f\"You have selected {select} operation\")\n",
    "    elif choice==3:\n",
    "        select=\"Sum\"\n",
    "        print(f\"You have selected {select} operation\")\n",
    "    elif choice==4:\n",
    "        select=\"Median\"\n",
    "        print(f\"You have selected {select} operation\")\n",
    "    elif choice==5:\n",
    "        select=\"Mean\"\n",
    "        print(f\"You have selected {select} operation\")\n",
    "    elif choice==6:\n",
    "        select=\"Update\"\n",
    "        print(f\"You have selected {select} operation\")\n",
    "    elif choice==7:\n",
    "        select=\"Access Element\"\n",
    "        print(f\"You have selected {select} operation\")\n",
    "    elif choice==8:\n",
    "        select=\"Sort\"\n",
    "        print(f\"You have selected {select} operation\")\n",
    "    elif choice==9:\n",
    "        select=\"Minimum of List\"\n",
    "        print(f\"You have selected {select} operation\")\n",
    "    elif choice==10:\n",
    "        select=\"Maximum of List\"\n",
    "        print(f\"You have selected {select} operation\")\n",
    "    elif choice==11:\n",
    "        select=\"Remove\"\n",
    "        print(f\"You have selected {select} operation\")\n",
    "    elif choice==12:\n",
    "        select=\"Add Element\"\n",
    "        print(f\"You have selected {select} operation\")\n",
    "    elif choice==13:\n",
    "        select=\"Extend\"\n",
    "        print(f\"You have selected {select} operation\")\n",
    "    elif choice==14:\n",
    "        select=\"View list\"\n",
    "        print(f\"You have selected {select} operation\")\n",
    "    elif choice==15:\n",
    "        select=\"Clear\"\n",
    "        print(f\"You have selected {select} operation\")\n",
    "    else:\n",
    "        print(\"Invalid input\")\n",
    "    return choice\n",
    "print(\"Select your Options to perform list operation\\n 1.Append(Create List)\\n 2.Length\\n 3.Sum of List\\n 4.Median\\n 5.Mean\\n 6.Update\\n 7.Access Element\\n 8.Sort\\n 9.Minimum of list\\n 10. Maximum of List\\n 11.Remove\\n 12.Add Element\\n 13.Extend List\\n 14.View List\\n 15.Clear\\n\")\n",
    "choice=int(input(\"choice\"))\n",
    "listOp(choice)\n",
    "if choice==1:\n",
    "    list1=appendList()\n",
    "    print(list1)\n",
    "elif choice==2:\n",
    "    print(lenList())\n",
    "elif choice==3:\n",
    "    print(sumList(list1))\n",
    "elif choice==4:\n",
    "    print(medianList(list1))\n",
    "elif choice==5:\n",
    "    print(meanList(list1))    \n",
    "elif choice==6:\n",
    "    pos=int(input(\"Enter the position\"))\n",
    "    ele=int(input(\"Enter the element to update\"))\n",
    "    updateList(list1)\n",
    "    print(\"Updated list is\",list1)\n",
    "elif choice==7:\n",
    "    ele=int(input(\"Enter the position\"))\n",
    "    print(accessList(list1))\n",
    "elif choice==8:\n",
    "    print(sortList(list1))\n",
    "elif choice==9:  \n",
    "    print(minList(list1))\n",
    "elif choice==10:\n",
    "    print(maxList(list1))\n",
    "elif choice==11:\n",
    "    ele=int(input(\"Enter the element to remove from the list\"))\n",
    "    print(\"List before removing the element\",list1)\n",
    "    removeList(list1)\n",
    "    print(\"List after removing the element\",list1)\n",
    "elif choice==12:\n",
    "    ele=int(input(\"Enter an intger to add\\t\"))\n",
    "    print(\"List before adding the element\",list1)\n",
    "    addele(list1)\n",
    "    print(\"List after adding the element\",list1)\n",
    "elif choice==13:\n",
    "    newList=[]\n",
    "    eler=int(input(\"Number of ele\"))\n",
    "    for i in range(0,eler):\n",
    "        element=int(input(\"elements\"))\n",
    "        newList.append(element)\n",
    "    print(newList)\n",
    "    list1.extend(newList)\n",
    "    print(\"List after Extend\",list1)\n",
    "elif choice==14:\n",
    "    print(list1)\n",
    "elif choice==15:\n",
    "    print(clearList(list1))\n",
    "    "
   ]
  }
 ],
 "metadata": {
  "kernelspec": {
   "display_name": "Python 3 (ipykernel)",
   "language": "python",
   "name": "python3"
  },
  "language_info": {
   "codemirror_mode": {
    "name": "ipython",
    "version": 3
   },
   "file_extension": ".py",
   "mimetype": "text/x-python",
   "name": "python",
   "nbconvert_exporter": "python",
   "pygments_lexer": "ipython3",
   "version": "3.9.7"
  }
 },
 "nbformat": 4,
 "nbformat_minor": 5
}

{
 "cells": [
  {
   "cell_type": "code",
   "execution_count": 1,
   "id": "bea60479",
   "metadata": {},
   "outputs": [
    {
     "name": "stdout",
     "output_type": "stream",
     "text": [
      "Concatenation of 3 strings are: KolarByreGowda\n"
     ]
    }
   ],
   "source": [
    "#Write function to concatenate three strings\n",
    "def concatStr(s1,s2,s3):\n",
    "    concat=s1+s2+s3\n",
    "    print(\"Concatenation of 3 strings are:\",concat)\n",
    "concatStr(\"Kolar\",\"Byre\",\"Gowda\")\n"
   ]
  },
  {
   "cell_type": "code",
   "execution_count": 3,
   "id": "aebbb73f",
   "metadata": {},
   "outputs": [
    {
     "name": "stdout",
     "output_type": "stream",
     "text": [
      "2\n",
      "3.5\n",
      "4\n",
      "multiplication of three numbers is 28\n"
     ]
    }
   ],
   "source": [
    "#Write a function multiply three different integers and return a int\n",
    "def multiply(a,b,c):\n",
    "    sum=a*b*c\n",
    "    print(\"multiplication of three numbers is\",int(sum))\n",
    "num1=int(input())\n",
    "num2=float(input())\n",
    "num3=int(input())\n",
    "multiply(num1,num2,num3)"
   ]
  },
  {
   "cell_type": "code",
   "execution_count": 6,
   "id": "8b011e3d",
   "metadata": {},
   "outputs": [
    {
     "name": "stdout",
     "output_type": "stream",
     "text": [
      "multiplication of three numbers is 8\n"
     ]
    }
   ],
   "source": [
    "def multiply(a,b,c):\n",
    "    sum=a*b*c\n",
    "    print(\"multiplication of three numbers is\",int(sum))\n",
    "multiply(3,3.12,0.88)"
   ]
  },
  {
   "cell_type": "code",
   "execution_count": 8,
   "id": "41daf7d2",
   "metadata": {},
   "outputs": [
    {
     "name": "stdout",
     "output_type": "stream",
     "text": [
      "multiplication of three numbers is 7992\n"
     ]
    }
   ],
   "source": [
    "def multiply(a,b,c):\n",
    "    sum=a*b*c\n",
    "    print(\"multiplication of three numbers is\",int(sum))\n",
    "num1=8\n",
    "num2=9\n",
    "num3=111\n",
    "multiply(num1,num2,num3)"
   ]
  },
  {
   "cell_type": "code",
   "execution_count": 23,
   "id": "61e315d4",
   "metadata": {},
   "outputs": [
    {
     "name": "stdout",
     "output_type": "stream",
     "text": [
      "gowda\n",
      "Middle Char of string is: w\n"
     ]
    }
   ],
   "source": [
    "#Write a function to return middle char of the string\n",
    "def midchar(string):\n",
    "    strLen=len(string)\n",
    "    strInd=strLen//2\n",
    "    print(\"Middle Char of string is:\",string[strInd])\n",
    "string=input()\n",
    "midchar(string)\n",
    "\n",
    "\n"
   ]
  },
  {
   "cell_type": "code",
   "execution_count": 21,
   "id": "1375c3dc",
   "metadata": {},
   "outputs": [
    {
     "name": "stdout",
     "output_type": "stream",
     "text": [
      "gowda\n",
      "w\n"
     ]
    }
   ],
   "source": [
    "def midChar(string):\n",
    "    strLen=len(string)\n",
    "    midind=strLen//2\n",
    "    midChar=string[midind]\n",
    "    \n",
    "    print(midChar)\n",
    "string=input()\n",
    "midChar(string)"
   ]
  },
  {
   "cell_type": "code",
   "execution_count": 33,
   "id": "229fe4fc",
   "metadata": {},
   "outputs": [
    {
     "name": "stdout",
     "output_type": "stream",
     "text": [
      "Enter the string to check palindrome or not\tgowda\n",
      "gowda  is not a palindrome\n"
     ]
    }
   ],
   "source": [
    "#whether the string is palindrome or not\n",
    "def palindrome(str1):\n",
    "    strRev=str1[::-1]\n",
    "    if str1==strRev:\n",
    "        print(str1 ,\" is palindrome\")\n",
    "    else:\n",
    "        print(str1,\" is not a palindrome\")\n",
    "str1=input(\"Enter the string to check palindrome or not\\t\")\n",
    "palindrome(str1)"
   ]
  },
  {
   "cell_type": "code",
   "execution_count": null,
   "id": "daa5e308",
   "metadata": {},
   "outputs": [],
   "source": []
  }
 ],
 "metadata": {
  "kernelspec": {
   "display_name": "Python 3 (ipykernel)",
   "language": "python",
   "name": "python3"
  },
  "language_info": {
   "codemirror_mode": {
    "name": "ipython",
    "version": 3
   },
   "file_extension": ".py",
   "mimetype": "text/x-python",
   "name": "python",
   "nbconvert_exporter": "python",
   "pygments_lexer": "ipython3",
   "version": "3.9.7"
  }
 },
 "nbformat": 4,
 "nbformat_minor": 5
}
